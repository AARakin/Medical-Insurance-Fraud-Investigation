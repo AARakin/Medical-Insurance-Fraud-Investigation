{
 "cells": [
  {
   "cell_type": "markdown",
   "metadata": {
    "colab_type": "text",
    "id": "vkC_j6VpqrDw"
   },
   "source": [
    "## Setup"
   ]
  },
  {
   "cell_type": "code",
   "execution_count": 1,
   "metadata": {
    "colab": {},
    "colab_type": "code",
    "id": "54mb4J9PqqDh"
   },
   "outputs": [
    {
     "name": "stdout",
     "output_type": "stream",
     "text": [
      "2.2.0\n"
     ]
    }
   ],
   "source": [
    "\n",
    "from __future__ import absolute_import, division, print_function, unicode_literals\n",
    "\n",
    "import matplotlib.pyplot as plt\n",
    "import pandas as pd\n",
    "import seaborn as sns\n",
    "import numpy as np\n",
    "\n",
    "from sklearn.model_selection import train_test_split\n",
    "\n",
    "from sklearn.ensemble import RandomForestRegressor\n",
    "from sklearn.metrics import mean_absolute_error\n",
    "\n",
    "from keras.callbacks import ModelCheckpoint\n",
    "from keras.models import Sequential\n",
    "from keras.layers import Dense, Activation, Flatten, Dropout\n",
    "\n",
    "import tensorflow as tf    \n",
    "from tensorflow import keras\n",
    "from tensorflow.keras import layers\n",
    "\n",
    "\n",
    "from keras.preprocessing import sequence\n",
    "from keras.layers import Embedding\n",
    "from keras.layers import LSTM\n",
    "from keras.layers import Conv1D, MaxPooling1D, Conv2D, MaxPooling2D\n",
    "\n",
    "import matplotlib as mpl\n",
    "import matplotlib.pyplot as plt\n",
    "import seaborn as sns\n",
    "\n",
    "import sklearn\n",
    "from sklearn.metrics import confusion_matrix\n",
    "from sklearn.model_selection import train_test_split\n",
    "from sklearn.preprocessing import StandardScaler\n",
    "\n",
    "mpl.rcParams['figure.figsize'] = (12, 10)\n",
    "colors = plt.rcParams['axes.prop_cycle'].by_key()['color']\n",
    "\n",
    "\n",
    "\n",
    "import warnings\n",
    "warnings.filterwarnings(\"ignore\")\n",
    "warnings.filterwarnings(action='ignore',category=DeprecationWarning)\n",
    "warnings.filterwarnings(action='ignore',category=FutureWarning)\n",
    "\n",
    "\n",
    "print(tf.__version__)"
   ]
  },
  {
   "cell_type": "markdown",
   "metadata": {
    "colab_type": "text",
    "id": "fsjkwfsGOBMT"
   },
   "source": [
    "## Load the titanic dataset\n",
    "You will use the Titanic dataset with the (rather morbid) goal of predicting passenger survival, given characteristics such as gender, age, class, etc."
   ]
  },
  {
   "cell_type": "code",
   "execution_count": 2,
   "metadata": {
    "colab": {},
    "colab_type": "code",
    "id": "DSeMKcx03d5R"
   },
   "outputs": [
    {
     "data": {
      "text/html": [
       "<div>\n",
       "<style scoped>\n",
       "    .dataframe tbody tr th:only-of-type {\n",
       "        vertical-align: middle;\n",
       "    }\n",
       "\n",
       "    .dataframe tbody tr th {\n",
       "        vertical-align: top;\n",
       "    }\n",
       "\n",
       "    .dataframe thead th {\n",
       "        text-align: right;\n",
       "    }\n",
       "</style>\n",
       "<table border=\"1\" class=\"dataframe\">\n",
       "  <thead>\n",
       "    <tr style=\"text-align: right;\">\n",
       "      <th></th>\n",
       "      <th>PID</th>\n",
       "      <th>Fraud</th>\n",
       "      <th>DeductibleAmt</th>\n",
       "      <th>AmtReimbursed</th>\n",
       "      <th>CountOfCID</th>\n",
       "      <th>AvgAmtReimb</th>\n",
       "      <th>AvgAmtDed</th>\n",
       "      <th>CountOfBene</th>\n",
       "      <th>AvgReimbPerBene</th>\n",
       "      <th>AvgDedPerBene</th>\n",
       "      <th>AvgAge</th>\n",
       "    </tr>\n",
       "  </thead>\n",
       "  <tbody>\n",
       "    <tr>\n",
       "      <th>0</th>\n",
       "      <td>PRV51001</td>\n",
       "      <td>No</td>\n",
       "      <td>5340</td>\n",
       "      <td>104640</td>\n",
       "      <td>25</td>\n",
       "      <td>4186</td>\n",
       "      <td>214</td>\n",
       "      <td>24</td>\n",
       "      <td>4360</td>\n",
       "      <td>223</td>\n",
       "      <td>79</td>\n",
       "    </tr>\n",
       "    <tr>\n",
       "      <th>1</th>\n",
       "      <td>PRV51003</td>\n",
       "      <td>Yes</td>\n",
       "      <td>66286</td>\n",
       "      <td>605670</td>\n",
       "      <td>132</td>\n",
       "      <td>4588</td>\n",
       "      <td>502</td>\n",
       "      <td>117</td>\n",
       "      <td>5177</td>\n",
       "      <td>567</td>\n",
       "      <td>70</td>\n",
       "    </tr>\n",
       "    <tr>\n",
       "      <th>2</th>\n",
       "      <td>PRV51004</td>\n",
       "      <td>No</td>\n",
       "      <td>310</td>\n",
       "      <td>52170</td>\n",
       "      <td>149</td>\n",
       "      <td>350</td>\n",
       "      <td>2</td>\n",
       "      <td>138</td>\n",
       "      <td>378</td>\n",
       "      <td>2</td>\n",
       "      <td>72</td>\n",
       "    </tr>\n",
       "    <tr>\n",
       "      <th>3</th>\n",
       "      <td>PRV51005</td>\n",
       "      <td>Yes</td>\n",
       "      <td>3700</td>\n",
       "      <td>280910</td>\n",
       "      <td>1165</td>\n",
       "      <td>241</td>\n",
       "      <td>3</td>\n",
       "      <td>495</td>\n",
       "      <td>567</td>\n",
       "      <td>7</td>\n",
       "      <td>70</td>\n",
       "    </tr>\n",
       "    <tr>\n",
       "      <th>4</th>\n",
       "      <td>PRV51007</td>\n",
       "      <td>No</td>\n",
       "      <td>3264</td>\n",
       "      <td>33710</td>\n",
       "      <td>72</td>\n",
       "      <td>468</td>\n",
       "      <td>45</td>\n",
       "      <td>58</td>\n",
       "      <td>581</td>\n",
       "      <td>56</td>\n",
       "      <td>69</td>\n",
       "    </tr>\n",
       "  </tbody>\n",
       "</table>\n",
       "</div>"
      ],
      "text/plain": [
       "        PID Fraud  DeductibleAmt  AmtReimbursed  CountOfCID  AvgAmtReimb  \\\n",
       "0  PRV51001    No           5340         104640          25         4186   \n",
       "1  PRV51003   Yes          66286         605670         132         4588   \n",
       "2  PRV51004    No            310          52170         149          350   \n",
       "3  PRV51005   Yes           3700         280910        1165          241   \n",
       "4  PRV51007    No           3264          33710          72          468   \n",
       "\n",
       "   AvgAmtDed  CountOfBene  AvgReimbPerBene  AvgDedPerBene  AvgAge  \n",
       "0        214           24             4360            223      79  \n",
       "1        502          117             5177            567      70  \n",
       "2          2          138              378              2      72  \n",
       "3          3          495              567              7      70  \n",
       "4         45           58              581             56      69  "
      ]
     },
     "execution_count": 2,
     "metadata": {},
     "output_type": "execute_result"
    }
   ],
   "source": [
    "# Load dataset.\n",
    "df = pd.read_csv('PovidersUnique.csv')\n",
    "df.head()"
   ]
  },
  {
   "cell_type": "markdown",
   "metadata": {
    "colab_type": "text",
    "id": "jjm4Qj0u7_cp"
   },
   "source": [
    "## Explore the data"
   ]
  },
  {
   "cell_type": "markdown",
   "metadata": {
    "colab_type": "text",
    "id": "UrQzxKKh4d6u"
   },
   "source": [
    "The dataset contains the following features"
   ]
  },
  {
   "cell_type": "code",
   "execution_count": 3,
   "metadata": {
    "colab": {},
    "colab_type": "code",
    "id": "rTjugo3n308g"
   },
   "outputs": [
    {
     "data": {
      "text/plain": [
       "PID                object\n",
       "Fraud              object\n",
       "DeductibleAmt       int64\n",
       "AmtReimbursed       int64\n",
       "CountOfCID          int64\n",
       "AvgAmtReimb         int64\n",
       "AvgAmtDed           int64\n",
       "CountOfBene         int64\n",
       "AvgReimbPerBene     int64\n",
       "AvgDedPerBene       int64\n",
       "AvgAge              int64\n",
       "dtype: object"
      ]
     },
     "execution_count": 3,
     "metadata": {},
     "output_type": "execute_result"
    }
   ],
   "source": [
    "df.dtypes"
   ]
  },
  {
   "cell_type": "markdown",
   "metadata": {
    "colab_type": "text",
    "id": "DItSwJ_B5B0f"
   },
   "source": [
    "There are approximately twice as many male passengers as female passengers aboard."
   ]
  },
  {
   "cell_type": "markdown",
   "metadata": {
    "colab_type": "text",
    "id": "rK6WQ29q5Jf5"
   },
   "source": [
    "The majority of passengers were in the \"third\" class."
   ]
  },
  {
   "cell_type": "markdown",
   "metadata": {
    "colab_type": "text",
    "id": "puZFOhTDkblt"
   },
   "source": [
    "### Base Feature Columns"
   ]
  },
  {
   "cell_type": "code",
   "execution_count": 4,
   "metadata": {},
   "outputs": [
    {
     "data": {
      "text/html": [
       "<div>\n",
       "<style scoped>\n",
       "    .dataframe tbody tr th:only-of-type {\n",
       "        vertical-align: middle;\n",
       "    }\n",
       "\n",
       "    .dataframe tbody tr th {\n",
       "        vertical-align: top;\n",
       "    }\n",
       "\n",
       "    .dataframe thead th {\n",
       "        text-align: right;\n",
       "    }\n",
       "</style>\n",
       "<table border=\"1\" class=\"dataframe\">\n",
       "  <thead>\n",
       "    <tr style=\"text-align: right;\">\n",
       "      <th></th>\n",
       "      <th>PID</th>\n",
       "      <th>Fraud</th>\n",
       "      <th>DeductibleAmt</th>\n",
       "      <th>AmtReimbursed</th>\n",
       "      <th>CountOfCID</th>\n",
       "      <th>AvgAmtReimb</th>\n",
       "      <th>AvgAmtDed</th>\n",
       "      <th>CountOfBene</th>\n",
       "      <th>AvgReimbPerBene</th>\n",
       "      <th>AvgDedPerBene</th>\n",
       "      <th>AvgAge</th>\n",
       "    </tr>\n",
       "  </thead>\n",
       "  <tbody>\n",
       "    <tr>\n",
       "      <th>0</th>\n",
       "      <td>PRV51001</td>\n",
       "      <td>0</td>\n",
       "      <td>5340</td>\n",
       "      <td>104640</td>\n",
       "      <td>25</td>\n",
       "      <td>4186</td>\n",
       "      <td>214</td>\n",
       "      <td>24</td>\n",
       "      <td>4360</td>\n",
       "      <td>223</td>\n",
       "      <td>79</td>\n",
       "    </tr>\n",
       "    <tr>\n",
       "      <th>1</th>\n",
       "      <td>PRV51003</td>\n",
       "      <td>1</td>\n",
       "      <td>66286</td>\n",
       "      <td>605670</td>\n",
       "      <td>132</td>\n",
       "      <td>4588</td>\n",
       "      <td>502</td>\n",
       "      <td>117</td>\n",
       "      <td>5177</td>\n",
       "      <td>567</td>\n",
       "      <td>70</td>\n",
       "    </tr>\n",
       "    <tr>\n",
       "      <th>2</th>\n",
       "      <td>PRV51004</td>\n",
       "      <td>0</td>\n",
       "      <td>310</td>\n",
       "      <td>52170</td>\n",
       "      <td>149</td>\n",
       "      <td>350</td>\n",
       "      <td>2</td>\n",
       "      <td>138</td>\n",
       "      <td>378</td>\n",
       "      <td>2</td>\n",
       "      <td>72</td>\n",
       "    </tr>\n",
       "    <tr>\n",
       "      <th>3</th>\n",
       "      <td>PRV51005</td>\n",
       "      <td>1</td>\n",
       "      <td>3700</td>\n",
       "      <td>280910</td>\n",
       "      <td>1165</td>\n",
       "      <td>241</td>\n",
       "      <td>3</td>\n",
       "      <td>495</td>\n",
       "      <td>567</td>\n",
       "      <td>7</td>\n",
       "      <td>70</td>\n",
       "    </tr>\n",
       "    <tr>\n",
       "      <th>4</th>\n",
       "      <td>PRV51007</td>\n",
       "      <td>0</td>\n",
       "      <td>3264</td>\n",
       "      <td>33710</td>\n",
       "      <td>72</td>\n",
       "      <td>468</td>\n",
       "      <td>45</td>\n",
       "      <td>58</td>\n",
       "      <td>581</td>\n",
       "      <td>56</td>\n",
       "      <td>69</td>\n",
       "    </tr>\n",
       "  </tbody>\n",
       "</table>\n",
       "</div>"
      ],
      "text/plain": [
       "        PID  Fraud  DeductibleAmt  AmtReimbursed  CountOfCID  AvgAmtReimb  \\\n",
       "0  PRV51001      0           5340         104640          25         4186   \n",
       "1  PRV51003      1          66286         605670         132         4588   \n",
       "2  PRV51004      0            310          52170         149          350   \n",
       "3  PRV51005      1           3700         280910        1165          241   \n",
       "4  PRV51007      0           3264          33710          72          468   \n",
       "\n",
       "   AvgAmtDed  CountOfBene  AvgReimbPerBene  AvgDedPerBene  AvgAge  \n",
       "0        214           24             4360            223      79  \n",
       "1        502          117             5177            567      70  \n",
       "2          2          138              378              2      72  \n",
       "3          3          495              567              7      70  \n",
       "4         45           58              581             56      69  "
      ]
     },
     "execution_count": 4,
     "metadata": {},
     "output_type": "execute_result"
    }
   ],
   "source": [
    "df['Fraud']=df['Fraud'].apply(lambda x: 1 if x=='Yes' else 0)\n",
    "df.head()"
   ]
  },
  {
   "cell_type": "code",
   "execution_count": 5,
   "metadata": {},
   "outputs": [
    {
     "data": {
      "text/plain": [
       "Index(['PID', 'Fraud', 'DeductibleAmt', 'AmtReimbursed', 'CountOfCID',\n",
       "       'AvgAmtReimb', 'AvgAmtDed', 'CountOfBene', 'AvgReimbPerBene',\n",
       "       'AvgDedPerBene', 'AvgAge'],\n",
       "      dtype='object')"
      ]
     },
     "execution_count": 5,
     "metadata": {},
     "output_type": "execute_result"
    }
   ],
   "source": [
    "df.columns"
   ]
  },
  {
   "cell_type": "code",
   "execution_count": 6,
   "metadata": {},
   "outputs": [],
   "source": [
    "X =df[['DeductibleAmt', 'AmtReimbursed', 'CountOfCID',\n",
    "       'AvgAmtReimb', 'AvgAmtDed', 'CountOfBene', 'AvgReimbPerBene',\n",
    "       'AvgDedPerBene','AvgAge']].astype('float32')\n",
    "y = np.asarray(df['Fraud'])"
   ]
  },
  {
   "cell_type": "code",
   "execution_count": 7,
   "metadata": {},
   "outputs": [],
   "source": [
    "from sklearn.preprocessing import MinMaxScaler\n",
    "scaler = MinMaxScaler()\n",
    "scaler.fit(X)\n",
    "dft = scaler.transform(X)\n"
   ]
  },
  {
   "cell_type": "code",
   "execution_count": 8,
   "metadata": {},
   "outputs": [
    {
     "name": "stdout",
     "output_type": "stream",
     "text": [
      "Train set: (4869, 9) (4869,)\n",
      "Test set: (541, 9) (541,)\n"
     ]
    }
   ],
   "source": [
    "from sklearn.model_selection import train_test_split\n",
    "x_train, x_test, y_train, y_test = train_test_split(dft, y, test_size=0.10, random_state=4)\n",
    "print ('Train set:', x_train.shape,  y_train.shape)\n",
    "print ('Test set:', x_test.shape,  y_test.shape)"
   ]
  },
  {
   "cell_type": "markdown",
   "metadata": {},
   "source": [
    "# Class Weight"
   ]
  },
  {
   "cell_type": "code",
   "execution_count": 9,
   "metadata": {},
   "outputs": [
    {
     "name": "stdout",
     "output_type": "stream",
     "text": [
      "Examples:\n",
      "    Total: 5410\n",
      "    Positive: 506 (9.35% of total)\n",
      "\n",
      "Weight for class 0: 0.55\n",
      "Weight for class 1: 5.35\n"
     ]
    }
   ],
   "source": [
    "neg, pos = np.bincount(df['Fraud'])\n",
    "total = neg + pos\n",
    "print('Examples:\\n    Total: {}\\n    Positive: {} ({:.2f}% of total)\\n'.format(\n",
    "    total, pos, 100 * pos / total))\n",
    "\n",
    "weight_for_0 = (1 / neg)*(total)/2.0 \n",
    "weight_for_1 = (1 / pos)*(total)/2.0\n",
    "\n",
    "class_weight = {0: weight_for_0, 1: weight_for_1}\n",
    "\n",
    "print('Weight for class 0: {:.2f}'.format(weight_for_0))\n",
    "print('Weight for class 1: {:.2f}'.format(weight_for_1))\n"
   ]
  },
  {
   "cell_type": "markdown",
   "metadata": {},
   "source": [
    "# Metrics "
   ]
  },
  {
   "cell_type": "code",
   "execution_count": 10,
   "metadata": {},
   "outputs": [],
   "source": [
    "METRICS = [\n",
    "      keras.metrics.TruePositives(name='tp'),\n",
    "      keras.metrics.FalsePositives(name='fp'),\n",
    "      keras.metrics.TrueNegatives(name='tn'),\n",
    "      keras.metrics.FalseNegatives(name='fn'), \n",
    "      keras.metrics.BinaryAccuracy(name='accuracy'),\n",
    "      keras.metrics.Precision(name='precision'),\n",
    "      keras.metrics.Recall(name='recall'),\n",
    "      keras.metrics.AUC(name='auc'),\n",
    "]"
   ]
  },
  {
   "cell_type": "code",
   "execution_count": 11,
   "metadata": {},
   "outputs": [],
   "source": [
    "def plot_metrics(history):\n",
    "    metrics =  ['loss', 'auc', 'precision', 'recall']\n",
    "    for n, metric in enumerate(metrics):\n",
    "        name = metric.replace(\"_\",\" \").capitalize()\n",
    "        plt.subplot(2,2,n+1)\n",
    "        plt.plot(history.epoch,  history.history[metric], color=colors[0], label='Train')\n",
    "        plt.plot(history.epoch, history.history['val_'+metric],\n",
    "                 color=colors[0], linestyle=\"--\", label='Val')\n",
    "        plt.xlabel('Epoch')\n",
    "        plt.ylabel(name)\n",
    "        if metric == 'loss':\n",
    "            plt.ylim([0, plt.ylim()[1]])\n",
    "        elif metric == 'auc':\n",
    "            plt.ylim([0.8,1])\n",
    "        else:\n",
    "            plt.ylim([0,1])\n",
    "\n",
    "        plt.legend()\n"
   ]
  },
  {
   "cell_type": "code",
   "execution_count": 12,
   "metadata": {},
   "outputs": [],
   "source": [
    "def plot_cm(labels, predictions, p=0.5):\n",
    "    \n",
    "      cm = confusion_matrix(labels, predictions > p)\n",
    "      plt.figure(figsize=(5,5))\n",
    "      sns.heatmap(cm, annot=True, fmt=\"d\")\n",
    "      plt.title('Confusion matrix @{:.2f}'.format(p))\n",
    "      plt.ylabel('Actual label')\n",
    "      plt.xlabel('Predicted label')\n",
    "\n",
    "      print('Legitimate Transactions Detected (True Negatives): ', cm[0][0])\n",
    "      print('Legitimate Transactions Incorrectly Detected (False Positives): ', cm[0][1])\n",
    "      print('Fraudulent Transactions Missed (False Negatives): ', cm[1][0])\n",
    "      print('Fraudulent Transactions Detected (True Positives): ', cm[1][1])\n",
    "      print('Total Fraudulent Transactions: ', np.sum(cm[1]))\n"
   ]
  },
  {
   "cell_type": "code",
   "execution_count": 13,
   "metadata": {},
   "outputs": [],
   "source": [
    "def plot_loss(history, label, n):\n",
    "    \n",
    "    # Use a log scale to show the wide range of values.\n",
    "    plt.semilogy(history.epoch,  history.history['loss'],\n",
    "               color=colors[n], label='Train '+label)\n",
    "    plt.semilogy(history.epoch,  history.history['val_loss'],\n",
    "          color=colors[n], label='Val '+label,\n",
    "          linestyle=\"--\")\n",
    "    plt.xlabel('Epoch')\n",
    "    plt.ylabel('Loss')\n",
    "\n",
    "    plt.legend()\n"
   ]
  },
  {
   "cell_type": "code",
   "execution_count": 14,
   "metadata": {},
   "outputs": [],
   "source": [
    "def plot_roc(name, labels, predictions, **kwargs):\n",
    "    \n",
    "    fp, tp, _ = sklearn.metrics.roc_curve(labels, predictions)\n",
    "\n",
    "    plt.plot(100*fp, 100*tp, label=name, linewidth=2, **kwargs)\n",
    "    plt.xlabel('False positives [%]')\n",
    "    plt.ylabel('True positives [%]')\n",
    "    plt.xlim([-0.5,20])\n",
    "    plt.ylim([80,100.5])\n",
    "    plt.grid(True)\n",
    "    ax = plt.gca()\n",
    "    ax.set_aspect('equal')\n"
   ]
  },
  {
   "cell_type": "markdown",
   "metadata": {},
   "source": [
    "# RNN Model"
   ]
  },
  {
   "cell_type": "code",
   "execution_count": 15,
   "metadata": {},
   "outputs": [],
   "source": [
    "seq = tf.keras.models.Sequential([\n",
    "    tf.keras.layers.Dense(64, input_shape=[X.shape[1]]),\n",
    "    tf.keras.layers.Dense(32, activation='relu'),\n",
    "    tf.keras.layers.Dense(1, activation='sigmoid')])\n",
    "\n",
    "\n",
    "seq.compile(optimizer=tf.keras.optimizers.Adam(lr=0.001),#defualt 0.001\n",
    "              loss=tf.keras.losses.BinaryCrossentropy(from_logits=True),\n",
    "              metrics=METRICS)\n",
    "\n",
    "early_stopping = tf.keras.callbacks.EarlyStopping(\n",
    "    monitor='val_auc', \n",
    "    verbose=1,\n",
    "    patience=10,\n",
    "    mode='max',\n",
    "    restore_best_weights=True)\n",
    "\n"
   ]
  },
  {
   "cell_type": "code",
   "execution_count": 211,
   "metadata": {
    "scrolled": true
   },
   "outputs": [
    {
     "name": "stdout",
     "output_type": "stream",
     "text": [
      "Train on 4869 samples, validate on 541 samples\n",
      "Epoch 1/100\n",
      "4869/4869 [==============================] - 11s 2ms/sample - loss: 0.6721 - tp: 119.0000 - fp: 211.0000 - tn: 4200.0000 - fn: 339.0000 - accuracy: 0.8870 - precision: 0.3606 - recall: 0.2598 - auc: 0.7702 - val_loss: 0.6088 - val_tp: 30.0000 - val_fp: 48.0000 - val_tn: 445.0000 - val_fn: 18.0000 - val_accuracy: 0.8780 - val_precision: 0.3846 - val_recall: 0.6250 - val_auc: 0.8982\n",
      "Epoch 2/100\n",
      "4869/4869 [==============================] - 1s 268us/sample - loss: 0.6158 - tp: 309.0000 - fp: 616.0000 - tn: 3795.0000 - fn: 149.0000 - accuracy: 0.8429 - precision: 0.3341 - recall: 0.6747 - auc: 0.8682 - val_loss: 0.5818 - val_tp: 39.0000 - val_fp: 76.0000 - val_tn: 417.0000 - val_fn: 9.0000 - val_accuracy: 0.8429 - val_precision: 0.3391 - val_recall: 0.8125 - val_auc: 0.8962\n",
      "Epoch 3/100\n",
      "4869/4869 [==============================] - 1s 222us/sample - loss: 0.6039 - tp: 348.0000 - fp: 748.0000 - tn: 3663.0000 - fn: 110.0000 - accuracy: 0.8238 - precision: 0.3175 - recall: 0.7598 - auc: 0.8691 - val_loss: 0.5761 - val_tp: 42.0000 - val_fp: 79.0000 - val_tn: 414.0000 - val_fn: 6.0000 - val_accuracy: 0.8429 - val_precision: 0.3471 - val_recall: 0.8750 - val_auc: 0.8971\n",
      "Epoch 4/100\n",
      "4869/4869 [==============================] - 1s 216us/sample - loss: 0.6005 - tp: 355.0000 - fp: 768.0000 - tn: 3643.0000 - fn: 103.0000 - accuracy: 0.8211 - precision: 0.3161 - recall: 0.7751 - auc: 0.8742 - val_loss: 0.5742 - val_tp: 43.0000 - val_fp: 84.0000 - val_tn: 409.0000 - val_fn: 5.0000 - val_accuracy: 0.8355 - val_precision: 0.3386 - val_recall: 0.8958 - val_auc: 0.9050\n",
      "Epoch 5/100\n",
      "4869/4869 [==============================] - 1s 214us/sample - loss: 0.5981 - tp: 362.0000 - fp: 786.0000 - tn: 3625.0000 - fn: 96.0000 - accuracy: 0.8189 - precision: 0.3153 - recall: 0.7904 - auc: 0.8783 - val_loss: 0.5724 - val_tp: 43.0000 - val_fp: 80.0000 - val_tn: 413.0000 - val_fn: 5.0000 - val_accuracy: 0.8429 - val_precision: 0.3496 - val_recall: 0.8958 - val_auc: 0.9067\n",
      "Epoch 6/100\n",
      "4869/4869 [==============================] - 1s 231us/sample - loss: 0.5964 - tp: 361.0000 - fp: 756.0000 - tn: 3655.0000 - fn: 97.0000 - accuracy: 0.8248 - precision: 0.3232 - recall: 0.7882 - auc: 0.8852 - val_loss: 0.5743 - val_tp: 44.0000 - val_fp: 95.0000 - val_tn: 398.0000 - val_fn: 4.0000 - val_accuracy: 0.8170 - val_precision: 0.3165 - val_recall: 0.9167 - val_auc: 0.9158\n",
      "Epoch 7/100\n",
      "4869/4869 [==============================] - 1s 219us/sample - loss: 0.5917 - tp: 363.0000 - fp: 683.0000 - tn: 3728.0000 - fn: 95.0000 - accuracy: 0.8402 - precision: 0.3470 - recall: 0.7926 - auc: 0.8992 - val_loss: 0.5599 - val_tp: 36.0000 - val_fp: 33.0000 - val_tn: 460.0000 - val_fn: 12.0000 - val_accuracy: 0.9168 - val_precision: 0.5217 - val_recall: 0.7500 - val_auc: 0.9475\n",
      "Epoch 8/100\n",
      "4869/4869 [==============================] - 1s 215us/sample - loss: 0.5830 - tp: 344.0000 - fp: 437.0000 - tn: 3974.0000 - fn: 114.0000 - accuracy: 0.8868 - precision: 0.4405 - recall: 0.7511 - auc: 0.9165 - val_loss: 0.5597 - val_tp: 40.0000 - val_fp: 55.0000 - val_tn: 438.0000 - val_fn: 8.0000 - val_accuracy: 0.8835 - val_precision: 0.4211 - val_recall: 0.8333 - val_auc: 0.9499\n",
      "Epoch 9/100\n",
      "4869/4869 [==============================] - 1s 241us/sample - loss: 0.5822 - tp: 356.0000 - fp: 513.0000 - tn: 3898.0000 - fn: 102.0000 - accuracy: 0.8737 - precision: 0.4097 - recall: 0.7773 - auc: 0.9175 - val_loss: 0.5589 - val_tp: 39.0000 - val_fp: 49.0000 - val_tn: 444.0000 - val_fn: 9.0000 - val_accuracy: 0.8928 - val_precision: 0.4432 - val_recall: 0.8125 - val_auc: 0.9472\n",
      "Epoch 10/100\n",
      "4869/4869 [==============================] - 1s 244us/sample - loss: 0.5782 - tp: 363.0000 - fp: 521.0000 - tn: 3890.0000 - fn: 95.0000 - accuracy: 0.8735 - precision: 0.4106 - recall: 0.7926 - auc: 0.9190 - val_loss: 0.5584 - val_tp: 40.0000 - val_fp: 54.0000 - val_tn: 439.0000 - val_fn: 8.0000 - val_accuracy: 0.8854 - val_precision: 0.4255 - val_recall: 0.8333 - val_auc: 0.9468\n",
      "Epoch 11/100\n",
      "4869/4869 [==============================] - 1s 251us/sample - loss: 0.5774 - tp: 375.0000 - fp: 506.0000 - tn: 3905.0000 - fn: 83.0000 - accuracy: 0.8790 - precision: 0.4257 - recall: 0.8188 - auc: 0.9185 - val_loss: 0.5580 - val_tp: 40.0000 - val_fp: 50.0000 - val_tn: 443.0000 - val_fn: 8.0000 - val_accuracy: 0.8928 - val_precision: 0.4444 - val_recall: 0.8333 - val_auc: 0.9457\n",
      "Epoch 12/100\n",
      "4869/4869 [==============================] - 1s 226us/sample - loss: 0.5770 - tp: 369.0000 - fp: 506.0000 - tn: 3905.0000 - fn: 89.0000 - accuracy: 0.8778 - precision: 0.4217 - recall: 0.8057 - auc: 0.9163 - val_loss: 0.5554 - val_tp: 41.0000 - val_fp: 54.0000 - val_tn: 439.0000 - val_fn: 7.0000 - val_accuracy: 0.8872 - val_precision: 0.4316 - val_recall: 0.8542 - val_auc: 0.9468\n",
      "Epoch 13/100\n",
      "4869/4869 [==============================] - 1s 255us/sample - loss: 0.5764 - tp: 365.0000 - fp: 492.0000 - tn: 3919.0000 - fn: 93.0000 - accuracy: 0.8799 - precision: 0.4259 - recall: 0.7969 - auc: 0.9172 - val_loss: 0.5559 - val_tp: 39.0000 - val_fp: 44.0000 - val_tn: 449.0000 - val_fn: 9.0000 - val_accuracy: 0.9020 - val_precision: 0.4699 - val_recall: 0.8125 - val_auc: 0.9461\n",
      "Epoch 14/100\n",
      "4869/4869 [==============================] - ETA: 0s - loss: 0.5755 - tp: 363.0000 - fp: 463.0000 - tn: 3944.0000 - fn: 94.0000 - accuracy: 0.8855 - precision: 0.4395 - recall: 0.7943 - auc: 0.914 - 1s 288us/sample - loss: 0.5756 - tp: 364.0000 - fp: 463.0000 - tn: 3948.0000 - fn: 94.0000 - accuracy: 0.8856 - precision: 0.4401 - recall: 0.7948 - auc: 0.9142 - val_loss: 0.5574 - val_tp: 41.0000 - val_fp: 59.0000 - val_tn: 434.0000 - val_fn: 7.0000 - val_accuracy: 0.8780 - val_precision: 0.4100 - val_recall: 0.8542 - val_auc: 0.9452\n",
      "Epoch 15/100\n",
      "4869/4869 [==============================] - 2s 329us/sample - loss: 0.5753 - tp: 373.0000 - fp: 521.0000 - tn: 3890.0000 - fn: 85.0000 - accuracy: 0.8755 - precision: 0.4172 - recall: 0.8144 - auc: 0.9210 - val_loss: 0.5547 - val_tp: 41.0000 - val_fp: 49.0000 - val_tn: 444.0000 - val_fn: 7.0000 - val_accuracy: 0.8965 - val_precision: 0.4556 - val_recall: 0.8542 - val_auc: 0.9486\n",
      "Epoch 16/100\n",
      "4869/4869 [==============================] - 1s 285us/sample - loss: 0.5743 - tp: 372.0000 - fp: 486.0000 - tn: 3925.0000 - fn: 86.0000 - accuracy: 0.8825 - precision: 0.4336 - recall: 0.8122 - auc: 0.9206 - val_loss: 0.5551 - val_tp: 41.0000 - val_fp: 55.0000 - val_tn: 438.0000 - val_fn: 7.0000 - val_accuracy: 0.8854 - val_precision: 0.4271 - val_recall: 0.8542 - val_auc: 0.9460\n",
      "Epoch 17/100\n",
      "4869/4869 [==============================] - 1s 278us/sample - loss: 0.5742 - tp: 363.0000 - fp: 442.0000 - tn: 3969.0000 - fn: 95.0000 - accuracy: 0.8897 - precision: 0.4509 - recall: 0.7926 - auc: 0.9159 - val_loss: 0.5556 - val_tp: 42.0000 - val_fp: 63.0000 - val_tn: 430.0000 - val_fn: 6.0000 - val_accuracy: 0.8725 - val_precision: 0.4000 - val_recall: 0.8750 - val_auc: 0.9449\n",
      "Epoch 18/100\n",
      "4869/4869 [==============================] - 2s 335us/sample - loss: 0.5732 - tp: 373.0000 - fp: 484.0000 - tn: 3927.0000 - fn: 85.0000 - accuracy: 0.8831 - precision: 0.4352 - recall: 0.8144 - auc: 0.9147 - val_loss: 0.5523 - val_tp: 44.0000 - val_fp: 63.0000 - val_tn: 430.0000 - val_fn: 4.0000 - val_accuracy: 0.8762 - val_precision: 0.4112 - val_recall: 0.9167 - val_auc: 0.9435\n",
      "Epoch 19/100\n",
      "4869/4869 [==============================] - 2s 335us/sample - loss: 0.5748 - tp: 369.0000 - fp: 486.0000 - tn: 3925.0000 - fn: 89.0000 - accuracy: 0.8819 - precision: 0.4316 - recall: 0.8057 - auc: 0.9144 - val_loss: 0.5539 - val_tp: 42.0000 - val_fp: 53.0000 - val_tn: 440.0000 - val_fn: 6.0000 - val_accuracy: 0.8909 - val_precision: 0.4421 - val_recall: 0.8750 - val_auc: 0.9446\n",
      "Epoch 20/100\n",
      "4869/4869 [==============================] - 1s 296us/sample - loss: 0.5729 - tp: 372.0000 - fp: 462.0000 - tn: 3949.0000 - fn: 86.0000 - accuracy: 0.8875 - precision: 0.4460 - recall: 0.8122 - auc: 0.9170 - val_loss: 0.5540 - val_tp: 42.0000 - val_fp: 58.0000 - val_tn: 435.0000 - val_fn: 6.0000 - val_accuracy: 0.8817 - val_precision: 0.4200 - val_recall: 0.8750 - val_auc: 0.9434\n",
      "Epoch 21/100\n",
      "4869/4869 [==============================] - 1s 302us/sample - loss: 0.5714 - tp: 372.0000 - fp: 462.0000 - tn: 3949.0000 - fn: 86.0000 - accuracy: 0.8875 - precision: 0.4460 - recall: 0.8122 - auc: 0.9165 - val_loss: 0.5540 - val_tp: 46.0000 - val_fp: 70.0000 - val_tn: 423.0000 - val_fn: 2.0000 - val_accuracy: 0.8669 - val_precision: 0.3966 - val_recall: 0.9583 - val_auc: 0.9413\n",
      "Epoch 22/100\n",
      "4869/4869 [==============================] - 1s 302us/sample - loss: 0.5710 - tp: 373.0000 - fp: 453.0000 - tn: 3958.0000 - fn: 85.0000 - accuracy: 0.8895 - precision: 0.4516 - recall: 0.8144 - auc: 0.9163 - val_loss: 0.5554 - val_tp: 47.0000 - val_fp: 79.0000 - val_tn: 414.0000 - val_fn: 1.0000 - val_accuracy: 0.8521 - val_precision: 0.3730 - val_recall: 0.9792 - val_auc: 0.9378\n",
      "Epoch 23/100\n",
      "4869/4869 [==============================] - 1s 224us/sample - loss: 0.5724 - tp: 374.0000 - fp: 479.0000 - tn: 3932.0000 - fn: 84.0000 - accuracy: 0.8844 - precision: 0.4385 - recall: 0.8166 - auc: 0.9115 - val_loss: 0.5524 - val_tp: 42.0000 - val_fp: 58.0000 - val_tn: 435.0000 - val_fn: 6.0000 - val_accuracy: 0.8817 - val_precision: 0.4200 - val_recall: 0.8750 - val_auc: 0.9456\n",
      "Epoch 24/100\n",
      "4869/4869 [==============================] - 1s 229us/sample - loss: 0.5699 - tp: 379.0000 - fp: 473.0000 - tn: 3938.0000 - fn: 79.0000 - accuracy: 0.8866 - precision: 0.4448 - recall: 0.8275 - auc: 0.9195 - val_loss: 0.5499 - val_tp: 46.0000 - val_fp: 65.0000 - val_tn: 428.0000 - val_fn: 2.0000 - val_accuracy: 0.8762 - val_precision: 0.4144 - val_recall: 0.9583 - val_auc: 0.9425\n",
      "Epoch 25/100\n",
      "4869/4869 [==============================] - 1s 240us/sample - loss: 0.5708 - tp: 381.0000 - fp: 495.0000 - tn: 3916.0000 - fn: 77.0000 - accuracy: 0.8825 - precision: 0.4349 - recall: 0.8319 - auc: 0.9178 - val_loss: 0.5501 - val_tp: 40.0000 - val_fp: 37.0000 - val_tn: 456.0000 - val_fn: 8.0000 - val_accuracy: 0.9168 - val_precision: 0.5195 - val_recall: 0.8333 - val_auc: 0.9343\n",
      "Epoch 26/100\n",
      "4869/4869 [==============================] - 1s 210us/sample - loss: 0.5715 - tp: 371.0000 - fp: 463.0000 - tn: 3948.0000 - fn: 87.0000 - accuracy: 0.8870 - precision: 0.4448 - recall: 0.8100 - auc: 0.9144 - val_loss: 0.5520 - val_tp: 42.0000 - val_fp: 58.0000 - val_tn: 435.0000 - val_fn: 6.0000 - val_accuracy: 0.8817 - val_precision: 0.4200 - val_recall: 0.8750 - val_auc: 0.9426\n",
      "Epoch 27/100\n",
      "4869/4869 [==============================] - 1s 212us/sample - loss: 0.5703 - tp: 377.0000 - fp: 457.0000 - tn: 3954.0000 - fn: 81.0000 - accuracy: 0.8895 - precision: 0.4520 - recall: 0.8231 - auc: 0.9178 - val_loss: 0.5509 - val_tp: 46.0000 - val_fp: 65.0000 - val_tn: 428.0000 - val_fn: 2.0000 - val_accuracy: 0.8762 - val_precision: 0.4144 - val_recall: 0.9583 - val_auc: 0.9394\n",
      "Epoch 28/100\n",
      "4869/4869 [==============================] - 1s 235us/sample - loss: 0.5708 - tp: 379.0000 - fp: 472.0000 - tn: 3939.0000 - fn: 79.0000 - accuracy: 0.8868 - precision: 0.4454 - recall: 0.8275 - auc: 0.9117 - val_loss: 0.5515 - val_tp: 44.0000 - val_fp: 62.0000 - val_tn: 431.0000 - val_fn: 4.0000 - val_accuracy: 0.8780 - val_precision: 0.4151 - val_recall: 0.9167 - val_auc: 0.9398\n",
      "Epoch 29/100\n",
      "4869/4869 [==============================] - 1s 224us/sample - loss: 0.5700 - tp: 383.0000 - fp: 501.0000 - tn: 3910.0000 - fn: 75.0000 - accuracy: 0.8817 - precision: 0.4333 - recall: 0.8362 - auc: 0.9169 - val_loss: 0.5509 - val_tp: 42.0000 - val_fp: 52.0000 - val_tn: 441.0000 - val_fn: 6.0000 - val_accuracy: 0.8928 - val_precision: 0.4468 - val_recall: 0.8750 - val_auc: 0.9453\n",
      "Epoch 30/100\n",
      "4869/4869 [==============================] - 1s 222us/sample - loss: 0.5699 - tp: 373.0000 - fp: 446.0000 - tn: 3965.0000 - fn: 85.0000 - accuracy: 0.8909 - precision: 0.4554 - recall: 0.8144 - auc: 0.9096 - val_loss: 0.5520 - val_tp: 44.0000 - val_fp: 61.0000 - val_tn: 432.0000 - val_fn: 4.0000 - val_accuracy: 0.8799 - val_precision: 0.4190 - val_recall: 0.9167 - val_auc: 0.9413\n",
      "Epoch 31/100\n",
      "4869/4869 [==============================] - 1s 209us/sample - loss: 0.5711 - tp: 376.0000 - fp: 481.0000 - tn: 3930.0000 - fn: 82.0000 - accuracy: 0.8844 - precision: 0.4387 - recall: 0.8210 - auc: 0.9120 - val_loss: 0.5514 - val_tp: 42.0000 - val_fp: 57.0000 - val_tn: 436.0000 - val_fn: 6.0000 - val_accuracy: 0.8835 - val_precision: 0.4242 - val_recall: 0.8750 - val_auc: 0.9408\n",
      "Epoch 32/100\n",
      "4869/4869 [==============================] - 1s 235us/sample - loss: 0.5693 - tp: 389.0000 - fp: 518.0000 - tn: 3893.0000 - fn: 69.0000 - accuracy: 0.8794 - precision: 0.4289 - recall: 0.8493 - auc: 0.9175 - val_loss: 0.5511 - val_tp: 42.0000 - val_fp: 57.0000 - val_tn: 436.0000 - val_fn: 6.0000 - val_accuracy: 0.8835 - val_precision: 0.4242 - val_recall: 0.8750 - val_auc: 0.9414\n",
      "Epoch 33/100\n",
      "4869/4869 [==============================] - 1s 231us/sample - loss: 0.5713 - tp: 384.0000 - fp: 528.0000 - tn: 3883.0000 - fn: 74.0000 - accuracy: 0.8764 - precision: 0.4211 - recall: 0.8384 - auc: 0.9111 - val_loss: 0.5514 - val_tp: 42.0000 - val_fp: 58.0000 - val_tn: 435.0000 - val_fn: 6.0000 - val_accuracy: 0.8817 - val_precision: 0.4200 - val_recall: 0.8750 - val_auc: 0.9430\n",
      "Epoch 34/100\n",
      "4869/4869 [==============================] - 1s 221us/sample - loss: 0.5708 - tp: 371.0000 - fp: 454.0000 - tn: 3957.0000 - fn: 87.0000 - accuracy: 0.8889 - precision: 0.4497 - recall: 0.8100 - auc: 0.9100 - val_loss: 0.5524 - val_tp: 44.0000 - val_fp: 62.0000 - val_tn: 431.0000 - val_fn: 4.0000 - val_accuracy: 0.8780 - val_precision: 0.4151 - val_recall: 0.9167 - val_auc: 0.9379\n",
      "Epoch 35/100\n",
      "4869/4869 [==============================] - ETA: 0s - loss: 0.5671 - tp: 361.0000 - fp: 494.0000 - tn: 3718.0000 - fn: 67.0000 - accuracy: 0.8791 - precision: 0.4222 - recall: 0.8435 - auc: 0.914 - 1s 218us/sample - loss: 0.5697 - tp: 386.0000 - fp: 510.0000 - tn: 3901.0000 - fn: 72.0000 - accuracy: 0.8805 - precision: 0.4308 - recall: 0.8428 - auc: 0.9127 - val_loss: 0.5500 - val_tp: 41.0000 - val_fp: 42.0000 - val_tn: 451.0000 - val_fn: 7.0000 - val_accuracy: 0.9094 - val_precision: 0.4940 - val_recall: 0.8542 - val_auc: 0.9398\n",
      "Epoch 36/100\n",
      "4869/4869 [==============================] - 1s 225us/sample - loss: 0.5700 - tp: 381.0000 - fp: 488.0000 - tn: 3923.0000 - fn: 77.0000 - accuracy: 0.8840 - precision: 0.4384 - recall: 0.8319 - auc: 0.9118 - val_loss: 0.5512 - val_tp: 41.0000 - val_fp: 53.0000 - val_tn: 440.0000 - val_fn: 7.0000 - val_accuracy: 0.8891 - val_precision: 0.4362 - val_recall: 0.8542 - val_auc: 0.9433\n",
      "Epoch 37/100\n",
      "4869/4869 [==============================] - 1s 211us/sample - loss: 0.5687 - tp: 382.0000 - fp: 478.0000 - tn: 3933.0000 - fn: 76.0000 - accuracy: 0.8862 - precision: 0.4442 - recall: 0.8341 - auc: 0.9104 - val_loss: 0.5522 - val_tp: 44.0000 - val_fp: 64.0000 - val_tn: 429.0000 - val_fn: 4.0000 - val_accuracy: 0.8743 - val_precision: 0.4074 - val_recall: 0.9167 - val_auc: 0.9375\n",
      "Epoch 38/100\n",
      "4869/4869 [==============================] - 1s 220us/sample - loss: 0.5687 - tp: 386.0000 - fp: 495.0000 - tn: 3916.0000 - fn: 72.0000 - accuracy: 0.8835 - precision: 0.4381 - recall: 0.8428 - auc: 0.9136 - val_loss: 0.5502 - val_tp: 41.0000 - val_fp: 43.0000 - val_tn: 450.0000 - val_fn: 7.0000 - val_accuracy: 0.9076 - val_precision: 0.4881 - val_recall: 0.8542 - val_auc: 0.9306\n",
      "Epoch 39/100\n",
      "4869/4869 [==============================] - 1s 222us/sample - loss: 0.5691 - tp: 377.0000 - fp: 475.0000 - tn: 3936.0000 - fn: 81.0000 - accuracy: 0.8858 - precision: 0.4425 - recall: 0.8231 - auc: 0.9081 - val_loss: 0.5517 - val_tp: 44.0000 - val_fp: 60.0000 - val_tn: 433.0000 - val_fn: 4.0000 - val_accuracy: 0.8817 - val_precision: 0.4231 - val_recall: 0.9167 - val_auc: 0.9305\n",
      "Epoch 40/100\n",
      "4869/4869 [==============================] - 1s 210us/sample - loss: 0.5682 - tp: 384.0000 - fp: 465.0000 - tn: 3946.0000 - fn: 74.0000 - accuracy: 0.8893 - precision: 0.4523 - recall: 0.8384 - auc: 0.9095 - val_loss: 0.5511 - val_tp: 42.0000 - val_fp: 56.0000 - val_tn: 437.0000 - val_fn: 6.0000 - val_accuracy: 0.8854 - val_precision: 0.4286 - val_recall: 0.8750 - val_auc: 0.9399\n",
      "Epoch 41/100\n"
     ]
    },
    {
     "name": "stdout",
     "output_type": "stream",
     "text": [
      "4869/4869 [==============================] - 1s 210us/sample - loss: 0.5710 - tp: 386.0000 - fp: 540.0000 - tn: 3871.0000 - fn: 72.0000 - accuracy: 0.8743 - precision: 0.4168 - recall: 0.8428 - auc: 0.9103 - val_loss: 0.5475 - val_tp: 46.0000 - val_fp: 62.0000 - val_tn: 431.0000 - val_fn: 2.0000 - val_accuracy: 0.8817 - val_precision: 0.4259 - val_recall: 0.9583 - val_auc: 0.9400\n",
      "Epoch 42/100\n",
      "4869/4869 [==============================] - 1s 214us/sample - loss: 0.5687 - tp: 383.0000 - fp: 477.0000 - tn: 3934.0000 - fn: 75.0000 - accuracy: 0.8866 - precision: 0.4453 - recall: 0.8362 - auc: 0.9081 - val_loss: 0.5512 - val_tp: 44.0000 - val_fp: 60.0000 - val_tn: 433.0000 - val_fn: 4.0000 - val_accuracy: 0.8817 - val_precision: 0.4231 - val_recall: 0.9167 - val_auc: 0.9310\n",
      "Epoch 43/100\n",
      "4869/4869 [==============================] - ETA: 0s - loss: 0.5701 - tp: 372.0000 - fp: 517.0000 - tn: 3745.0000 - fn: 70.0000 - accuracy: 0.8752 - precision: 0.4184 - recall: 0.8416 - auc: 0.912 - 1s 229us/sample - loss: 0.5695 - tp: 387.0000 - fp: 531.0000 - tn: 3880.0000 - fn: 71.0000 - accuracy: 0.8764 - precision: 0.4216 - recall: 0.8450 - auc: 0.9133 - val_loss: 0.5505 - val_tp: 42.0000 - val_fp: 55.0000 - val_tn: 438.0000 - val_fn: 6.0000 - val_accuracy: 0.8872 - val_precision: 0.4330 - val_recall: 0.8750 - val_auc: 0.9392\n",
      "Epoch 44/100\n",
      "4869/4869 [==============================] - 1s 222us/sample - loss: 0.5703 - tp: 374.0000 - fp: 450.0000 - tn: 3961.0000 - fn: 84.0000 - accuracy: 0.8903 - precision: 0.4539 - recall: 0.8166 - auc: 0.9090 - val_loss: 0.5500 - val_tp: 42.0000 - val_fp: 52.0000 - val_tn: 441.0000 - val_fn: 6.0000 - val_accuracy: 0.8928 - val_precision: 0.4468 - val_recall: 0.8750 - val_auc: 0.9324\n",
      "Epoch 45/100\n",
      "4869/4869 [==============================] - 1s 220us/sample - loss: 0.5694 - tp: 382.0000 - fp: 488.0000 - tn: 3923.0000 - fn: 76.0000 - accuracy: 0.8842 - precision: 0.4391 - recall: 0.8341 - auc: 0.9119 - val_loss: 0.5502 - val_tp: 42.0000 - val_fp: 54.0000 - val_tn: 439.0000 - val_fn: 6.0000 - val_accuracy: 0.8891 - val_precision: 0.4375 - val_recall: 0.8750 - val_auc: 0.9408\n",
      "Epoch 46/100\n",
      "4869/4869 [==============================] - 1s 210us/sample - loss: 0.5703 - tp: 379.0000 - fp: 478.0000 - tn: 3933.0000 - fn: 79.0000 - accuracy: 0.8856 - precision: 0.4422 - recall: 0.8275 - auc: 0.9078 - val_loss: 0.5506 - val_tp: 40.0000 - val_fp: 44.0000 - val_tn: 449.0000 - val_fn: 8.0000 - val_accuracy: 0.9039 - val_precision: 0.4762 - val_recall: 0.8333 - val_auc: 0.9274\n",
      "Epoch 47/100\n",
      "4869/4869 [==============================] - 1s 209us/sample - loss: 0.5701 - tp: 377.0000 - fp: 474.0000 - tn: 3937.0000 - fn: 81.0000 - accuracy: 0.8860 - precision: 0.4430 - recall: 0.8231 - auc: 0.9092 - val_loss: 0.5503 - val_tp: 42.0000 - val_fp: 50.0000 - val_tn: 443.0000 - val_fn: 6.0000 - val_accuracy: 0.8965 - val_precision: 0.4565 - val_recall: 0.8750 - val_auc: 0.9353\n",
      "Epoch 48/100\n",
      "4869/4869 [==============================] - 1s 209us/sample - loss: 0.5682 - tp: 384.0000 - fp: 478.0000 - tn: 3933.0000 - fn: 74.0000 - accuracy: 0.8866 - precision: 0.4455 - recall: 0.8384 - auc: 0.9093 - val_loss: 0.5510 - val_tp: 44.0000 - val_fp: 60.0000 - val_tn: 433.0000 - val_fn: 4.0000 - val_accuracy: 0.8817 - val_precision: 0.4231 - val_recall: 0.9167 - val_auc: 0.9366\n",
      "Epoch 49/100\n",
      "4869/4869 [==============================] - 1s 213us/sample - loss: 0.5705 - tp: 379.0000 - fp: 485.0000 - tn: 3926.0000 - fn: 79.0000 - accuracy: 0.8842 - precision: 0.4387 - recall: 0.8275 - auc: 0.9071 - val_loss: 0.5504 - val_tp: 41.0000 - val_fp: 44.0000 - val_tn: 449.0000 - val_fn: 7.0000 - val_accuracy: 0.9057 - val_precision: 0.4824 - val_recall: 0.8542 - val_auc: 0.9283\n",
      "Epoch 50/100\n",
      "4869/4869 [==============================] - 1s 209us/sample - loss: 0.5707 - tp: 375.0000 - fp: 467.0000 - tn: 3944.0000 - fn: 83.0000 - accuracy: 0.8870 - precision: 0.4454 - recall: 0.8188 - auc: 0.9060 - val_loss: 0.5548 - val_tp: 47.0000 - val_fp: 83.0000 - val_tn: 410.0000 - val_fn: 1.0000 - val_accuracy: 0.8447 - val_precision: 0.3615 - val_recall: 0.9792 - val_auc: 0.9310\n",
      "Epoch 51/100\n",
      "4869/4869 [==============================] - 1s 263us/sample - loss: 0.5693 - tp: 383.0000 - fp: 488.0000 - tn: 3923.0000 - fn: 75.0000 - accuracy: 0.8844 - precision: 0.4397 - recall: 0.8362 - auc: 0.9074 - val_loss: 0.5517 - val_tp: 44.0000 - val_fp: 64.0000 - val_tn: 429.0000 - val_fn: 4.0000 - val_accuracy: 0.8743 - val_precision: 0.4074 - val_recall: 0.9167 - val_auc: 0.9371\n",
      "Epoch 52/100\n",
      "4869/4869 [==============================] - 1s 248us/sample - loss: 0.5680 - tp: 388.0000 - fp: 493.0000 - tn: 3918.0000 - fn: 70.0000 - accuracy: 0.8844 - precision: 0.4404 - recall: 0.8472 - auc: 0.9107 - val_loss: 0.5562 - val_tp: 46.0000 - val_fp: 80.0000 - val_tn: 413.0000 - val_fn: 2.0000 - val_accuracy: 0.8484 - val_precision: 0.3651 - val_recall: 0.9583 - val_auc: 0.9318\n",
      "Epoch 53/100\n",
      "4869/4869 [==============================] - 1s 227us/sample - loss: 0.5713 - tp: 387.0000 - fp: 557.0000 - tn: 3854.0000 - fn: 71.0000 - accuracy: 0.8710 - precision: 0.4100 - recall: 0.8450 - auc: 0.9085 - val_loss: 0.5513 - val_tp: 41.0000 - val_fp: 49.0000 - val_tn: 444.0000 - val_fn: 7.0000 - val_accuracy: 0.8965 - val_precision: 0.4556 - val_recall: 0.8542 - val_auc: 0.9332\n",
      "Epoch 54/100\n",
      "4869/4869 [==============================] - 1s 229us/sample - loss: 0.5682 - tp: 385.0000 - fp: 475.0000 - tn: 3936.0000 - fn: 73.0000 - accuracy: 0.8875 - precision: 0.4477 - recall: 0.8406 - auc: 0.9096 - val_loss: 0.5513 - val_tp: 42.0000 - val_fp: 51.0000 - val_tn: 442.0000 - val_fn: 6.0000 - val_accuracy: 0.8946 - val_precision: 0.4516 - val_recall: 0.8750 - val_auc: 0.9323\n",
      "Epoch 55/100\n",
      "4869/4869 [==============================] - 1s 228us/sample - loss: 0.5698 - tp: 378.0000 - fp: 481.0000 - tn: 3930.0000 - fn: 80.0000 - accuracy: 0.8848 - precision: 0.4400 - recall: 0.8253 - auc: 0.9040 - val_loss: 0.5504 - val_tp: 41.0000 - val_fp: 45.0000 - val_tn: 448.0000 - val_fn: 7.0000 - val_accuracy: 0.9039 - val_precision: 0.4767 - val_recall: 0.8542 - val_auc: 0.9341\n",
      "Epoch 56/100\n",
      "4869/4869 [==============================] - 1s 229us/sample - loss: 0.5686 - tp: 380.0000 - fp: 455.0000 - tn: 3956.0000 - fn: 78.0000 - accuracy: 0.8905 - precision: 0.4551 - recall: 0.8297 - auc: 0.9051 - val_loss: 0.5530 - val_tp: 44.0000 - val_fp: 69.0000 - val_tn: 424.0000 - val_fn: 4.0000 - val_accuracy: 0.8651 - val_precision: 0.3894 - val_recall: 0.9167 - val_auc: 0.9326\n",
      "Epoch 57/100\n",
      "4869/4869 [==============================] - 1s 234us/sample - loss: 0.5689 - tp: 381.0000 - fp: 489.0000 - tn: 3922.0000 - fn: 77.0000 - accuracy: 0.8838 - precision: 0.4379 - recall: 0.8319 - auc: 0.9053 - val_loss: 0.5507 - val_tp: 43.0000 - val_fp: 55.0000 - val_tn: 438.0000 - val_fn: 5.0000 - val_accuracy: 0.8891 - val_precision: 0.4388 - val_recall: 0.8958 - val_auc: 0.9311\n",
      "Epoch 58/100\n",
      "4869/4869 [==============================] - 1s 251us/sample - loss: 0.5697 - tp: 384.0000 - fp: 508.0000 - tn: 3903.0000 - fn: 74.0000 - accuracy: 0.8805 - precision: 0.4305 - recall: 0.8384 - auc: 0.9080 - val_loss: 0.5512 - val_tp: 44.0000 - val_fp: 57.0000 - val_tn: 436.0000 - val_fn: 4.0000 - val_accuracy: 0.8872 - val_precision: 0.4356 - val_recall: 0.9167 - val_auc: 0.9380\n",
      "Epoch 59/100\n",
      "4869/4869 [==============================] - 2s 321us/sample - loss: 0.5684 - tp: 380.0000 - fp: 467.0000 - tn: 3944.0000 - fn: 78.0000 - accuracy: 0.8881 - precision: 0.4486 - recall: 0.8297 - auc: 0.9078 - val_loss: 0.5509 - val_tp: 42.0000 - val_fp: 55.0000 - val_tn: 438.0000 - val_fn: 6.0000 - val_accuracy: 0.8872 - val_precision: 0.4330 - val_recall: 0.8750 - val_auc: 0.9311\n",
      "Epoch 60/100\n",
      "4869/4869 [==============================] - 1s 244us/sample - loss: 0.5683 - tp: 384.0000 - fp: 474.0000 - tn: 3937.0000 - fn: 74.0000 - accuracy: 0.8875 - precision: 0.4476 - recall: 0.8384 - auc: 0.9078 - val_loss: 0.5513 - val_tp: 42.0000 - val_fp: 57.0000 - val_tn: 436.0000 - val_fn: 6.0000 - val_accuracy: 0.8835 - val_precision: 0.4242 - val_recall: 0.8750 - val_auc: 0.9384\n",
      "Epoch 61/100\n",
      "4869/4869 [==============================] - 1s 256us/sample - loss: 0.5684 - tp: 387.0000 - fp: 503.0000 - tn: 3908.0000 - fn: 71.0000 - accuracy: 0.8821 - precision: 0.4348 - recall: 0.8450 - auc: 0.9120 - val_loss: 0.5506 - val_tp: 42.0000 - val_fp: 49.0000 - val_tn: 444.0000 - val_fn: 6.0000 - val_accuracy: 0.8983 - val_precision: 0.4615 - val_recall: 0.8750 - val_auc: 0.9321\n",
      "Epoch 62/100\n",
      "4869/4869 [==============================] - 2s 309us/sample - loss: 0.5702 - tp: 374.0000 - fp: 462.0000 - tn: 3949.0000 - fn: 84.0000 - accuracy: 0.8879 - precision: 0.4474 - recall: 0.8166 - auc: 0.9017 - val_loss: 0.5534 - val_tp: 44.0000 - val_fp: 70.0000 - val_tn: 423.0000 - val_fn: 4.0000 - val_accuracy: 0.8632 - val_precision: 0.3860 - val_recall: 0.9167 - val_auc: 0.9327\n",
      "Epoch 63/100\n",
      "4869/4869 [==============================] - 1s 217us/sample - loss: 0.5684 - tp: 387.0000 - fp: 497.0000 - tn: 3914.0000 - fn: 71.0000 - accuracy: 0.8833 - precision: 0.4378 - recall: 0.8450 - auc: 0.9039 - val_loss: 0.5516 - val_tp: 44.0000 - val_fp: 59.0000 - val_tn: 434.0000 - val_fn: 4.0000 - val_accuracy: 0.8835 - val_precision: 0.4272 - val_recall: 0.9167 - val_auc: 0.9379\n",
      "Epoch 64/100\n",
      "4869/4869 [==============================] - 1s 220us/sample - loss: 0.5688 - tp: 383.0000 - fp: 484.0000 - tn: 3927.0000 - fn: 75.0000 - accuracy: 0.8852 - precision: 0.4418 - recall: 0.8362 - auc: 0.9074 - val_loss: 0.5483 - val_tp: 45.0000 - val_fp: 62.0000 - val_tn: 431.0000 - val_fn: 3.0000 - val_accuracy: 0.8799 - val_precision: 0.4206 - val_recall: 0.9375 - val_auc: 0.9346\n",
      "Epoch 65/100\n",
      "4869/4869 [==============================] - 1s 228us/sample - loss: 0.5690 - tp: 382.0000 - fp: 482.0000 - tn: 3929.0000 - fn: 76.0000 - accuracy: 0.8854 - precision: 0.4421 - recall: 0.8341 - auc: 0.9033 - val_loss: 0.5515 - val_tp: 42.0000 - val_fp: 56.0000 - val_tn: 437.0000 - val_fn: 6.0000 - val_accuracy: 0.8854 - val_precision: 0.4286 - val_recall: 0.8750 - val_auc: 0.9380\n",
      "Epoch 66/100\n",
      "4869/4869 [==============================] - 1s 210us/sample - loss: 0.5688 - tp: 385.0000 - fp: 493.0000 - tn: 3918.0000 - fn: 73.0000 - accuracy: 0.8838 - precision: 0.4385 - recall: 0.8406 - auc: 0.9029 - val_loss: 0.5472 - val_tp: 46.0000 - val_fp: 64.0000 - val_tn: 429.0000 - val_fn: 2.0000 - val_accuracy: 0.8780 - val_precision: 0.4182 - val_recall: 0.9583 - val_auc: 0.9333\n",
      "Epoch 67/100\n",
      "4869/4869 [==============================] - 1s 259us/sample - loss: 0.5674 - tp: 385.0000 - fp: 482.0000 - tn: 3929.0000 - fn: 73.0000 - accuracy: 0.8860 - precision: 0.4441 - recall: 0.8406 - auc: 0.9050 - val_loss: 0.5502 - val_tp: 42.0000 - val_fp: 48.0000 - val_tn: 445.0000 - val_fn: 6.0000 - val_accuracy: 0.9002 - val_precision: 0.4667 - val_recall: 0.8750 - val_auc: 0.9244\n",
      "Epoch 68/100\n",
      "4869/4869 [==============================] - 1s 241us/sample - loss: 0.5688 - tp: 381.0000 - fp: 485.0000 - tn: 3926.0000 - fn: 77.0000 - accuracy: 0.8846 - precision: 0.4400 - recall: 0.8319 - auc: 0.9015 - val_loss: 0.5513 - val_tp: 44.0000 - val_fp: 58.0000 - val_tn: 435.0000 - val_fn: 4.0000 - val_accuracy: 0.8854 - val_precision: 0.4314 - val_recall: 0.9167 - val_auc: 0.9381\n",
      "Epoch 69/100\n",
      "4869/4869 [==============================] - 1s 224us/sample - loss: 0.5688 - tp: 387.0000 - fp: 503.0000 - tn: 3908.0000 - fn: 71.0000 - accuracy: 0.8821 - precision: 0.4348 - recall: 0.8450 - auc: 0.9038 - val_loss: 0.5512 - val_tp: 44.0000 - val_fp: 62.0000 - val_tn: 431.0000 - val_fn: 4.0000 - val_accuracy: 0.8780 - val_precision: 0.4151 - val_recall: 0.9167 - val_auc: 0.9354\n",
      "Epoch 70/100\n",
      "4869/4869 [==============================] - 1s 239us/sample - loss: 0.5683 - tp: 384.0000 - fp: 483.0000 - tn: 3928.0000 - fn: 74.0000 - accuracy: 0.8856 - precision: 0.4429 - recall: 0.8384 - auc: 0.9043 - val_loss: 0.5505 - val_tp: 42.0000 - val_fp: 54.0000 - val_tn: 439.0000 - val_fn: 6.0000 - val_accuracy: 0.8891 - val_precision: 0.4375 - val_recall: 0.8750 - val_auc: 0.9326\n",
      "Epoch 71/100\n",
      "4869/4869 [==============================] - 1s 223us/sample - loss: 0.5685 - tp: 388.0000 - fp: 515.0000 - tn: 3896.0000 - fn: 70.0000 - accuracy: 0.8799 - precision: 0.4297 - recall: 0.8472 - auc: 0.9087 - val_loss: 0.5509 - val_tp: 41.0000 - val_fp: 46.0000 - val_tn: 447.0000 - val_fn: 7.0000 - val_accuracy: 0.9020 - val_precision: 0.4713 - val_recall: 0.8542 - val_auc: 0.9350\n",
      "Epoch 72/100\n",
      "4869/4869 [==============================] - 1s 280us/sample - loss: 0.5686 - tp: 382.0000 - fp: 470.0000 - tn: 3941.0000 - fn: 76.0000 - accuracy: 0.8879 - precision: 0.4484 - recall: 0.8341 - auc: 0.8995 - val_loss: 0.5510 - val_tp: 44.0000 - val_fp: 60.0000 - val_tn: 433.0000 - val_fn: 4.0000 - val_accuracy: 0.8817 - val_precision: 0.4231 - val_recall: 0.9167 - val_auc: 0.9356\n",
      "Epoch 73/100\n",
      "4869/4869 [==============================] - 1s 293us/sample - loss: 0.5693 - tp: 384.0000 - fp: 507.0000 - tn: 3904.0000 - fn: 74.0000 - accuracy: 0.8807 - precision: 0.4310 - recall: 0.8384 - auc: 0.9056 - val_loss: 0.5507 - val_tp: 41.0000 - val_fp: 45.0000 - val_tn: 448.0000 - val_fn: 7.0000 - val_accuracy: 0.9039 - val_precision: 0.4767 - val_recall: 0.8542 - val_auc: 0.9272\n",
      "Epoch 74/100\n",
      "4869/4869 [==============================] - 1s 216us/sample - loss: 0.5674 - tp: 383.0000 - fp: 469.0000 - tn: 3942.0000 - fn: 75.0000 - accuracy: 0.8883 - precision: 0.4495 - recall: 0.8362 - auc: 0.9037 - val_loss: 0.5500 - val_tp: 47.0000 - val_fp: 72.0000 - val_tn: 421.0000 - val_fn: 1.0000 - val_accuracy: 0.8651 - val_precision: 0.3950 - val_recall: 0.9792 - val_auc: 0.9315\n",
      "Epoch 75/100\n",
      "4869/4869 [==============================] - 1s 212us/sample - loss: 0.5689 - tp: 381.0000 - fp: 490.0000 - tn: 3921.0000 - fn: 77.0000 - accuracy: 0.8835 - precision: 0.4374 - recall: 0.8319 - auc: 0.8964 - val_loss: 0.5511 - val_tp: 42.0000 - val_fp: 50.0000 - val_tn: 443.0000 - val_fn: 6.0000 - val_accuracy: 0.8965 - val_precision: 0.4565 - val_recall: 0.8750 - val_auc: 0.9324\n",
      "Epoch 76/100\n",
      "4869/4869 [==============================] - 1s 217us/sample - loss: 0.5690 - tp: 389.0000 - fp: 517.0000 - tn: 3894.0000 - fn: 69.0000 - accuracy: 0.8796 - precision: 0.4294 - recall: 0.8493 - auc: 0.9000 - val_loss: 0.5502 - val_tp: 41.0000 - val_fp: 44.0000 - val_tn: 449.0000 - val_fn: 7.0000 - val_accuracy: 0.9057 - val_precision: 0.4824 - val_recall: 0.8542 - val_auc: 0.9199\n",
      "Epoch 77/100\n",
      "4869/4869 [==============================] - 1s 249us/sample - loss: 0.5684 - tp: 381.0000 - fp: 461.0000 - tn: 3950.0000 - fn: 77.0000 - accuracy: 0.8895 - precision: 0.4525 - recall: 0.8319 - auc: 0.8991 - val_loss: 0.5524 - val_tp: 44.0000 - val_fp: 68.0000 - val_tn: 425.0000 - val_fn: 4.0000 - val_accuracy: 0.8669 - val_precision: 0.3929 - val_recall: 0.9167 - val_auc: 0.9331\n",
      "Epoch 78/100\n",
      "4869/4869 [==============================] - 2s 318us/sample - loss: 0.5691 - tp: 385.0000 - fp: 496.0000 - tn: 3915.0000 - fn: 73.0000 - accuracy: 0.8831 - precision: 0.4370 - recall: 0.8406 - auc: 0.9003 - val_loss: 0.5504 - val_tp: 41.0000 - val_fp: 44.0000 - val_tn: 449.0000 - val_fn: 7.0000 - val_accuracy: 0.9057 - val_precision: 0.4824 - val_recall: 0.8542 - val_auc: 0.9178\n",
      "Epoch 79/100\n",
      "4869/4869 [==============================] - 1s 243us/sample - loss: 0.5690 - tp: 382.0000 - fp: 473.0000 - tn: 3938.0000 - fn: 76.0000 - accuracy: 0.8872 - precision: 0.4468 - recall: 0.8341 - auc: 0.9019 - val_loss: 0.5506 - val_tp: 40.0000 - val_fp: 43.0000 - val_tn: 450.0000 - val_fn: 8.0000 - val_accuracy: 0.9057 - val_precision: 0.4819 - val_recall: 0.8333 - val_auc: 0.9196\n",
      "Epoch 80/100\n",
      "4869/4869 [==============================] - 1s 213us/sample - loss: 0.5689 - tp: 378.0000 - fp: 469.0000 - tn: 3942.0000 - fn: 80.0000 - accuracy: 0.8872 - precision: 0.4463 - recall: 0.8253 - auc: 0.9003 - val_loss: 0.5501 - val_tp: 42.0000 - val_fp: 53.0000 - val_tn: 440.0000 - val_fn: 6.0000 - val_accuracy: 0.8909 - val_precision: 0.4421 - val_recall: 0.8750 - val_auc: 0.9248\n",
      "Epoch 81/100\n",
      "4869/4869 [==============================] - 1s 215us/sample - loss: 0.5680 - tp: 384.0000 - fp: 496.0000 - tn: 3915.0000 - fn: 74.0000 - accuracy: 0.8829 - precision: 0.4364 - recall: 0.8384 - auc: 0.8988 - val_loss: 0.5504 - val_tp: 42.0000 - val_fp: 52.0000 - val_tn: 441.0000 - val_fn: 6.0000 - val_accuracy: 0.8928 - val_precision: 0.4468 - val_recall: 0.8750 - val_auc: 0.9330\n"
     ]
    },
    {
     "name": "stdout",
     "output_type": "stream",
     "text": [
      "Epoch 82/100\n",
      "4869/4869 [==============================] - 1s 284us/sample - loss: 0.5677 - tp: 384.0000 - fp: 459.0000 - tn: 3952.0000 - fn: 74.0000 - accuracy: 0.8905 - precision: 0.4555 - recall: 0.8384 - auc: 0.8969 - val_loss: 0.5506 - val_tp: 40.0000 - val_fp: 41.0000 - val_tn: 452.0000 - val_fn: 8.0000 - val_accuracy: 0.9094 - val_precision: 0.4938 - val_recall: 0.8333 - val_auc: 0.9174\n",
      "Epoch 83/100\n",
      "4869/4869 [==============================] - 2s 329us/sample - loss: 0.5696 - tp: 381.0000 - fp: 502.0000 - tn: 3909.0000 - fn: 77.0000 - accuracy: 0.8811 - precision: 0.4315 - recall: 0.8319 - auc: 0.9031 - val_loss: 0.5523 - val_tp: 44.0000 - val_fp: 66.0000 - val_tn: 427.0000 - val_fn: 4.0000 - val_accuracy: 0.8706 - val_precision: 0.4000 - val_recall: 0.9167 - val_auc: 0.9327\n",
      "Epoch 84/100\n",
      "4869/4869 [==============================] - 1s 221us/sample - loss: 0.5683 - tp: 383.0000 - fp: 478.0000 - tn: 3933.0000 - fn: 75.0000 - accuracy: 0.8864 - precision: 0.4448 - recall: 0.8362 - auc: 0.9041 - val_loss: 0.5512 - val_tp: 44.0000 - val_fp: 57.0000 - val_tn: 436.0000 - val_fn: 4.0000 - val_accuracy: 0.8872 - val_precision: 0.4356 - val_recall: 0.9167 - val_auc: 0.9266\n",
      "Epoch 85/100\n",
      "4869/4869 [==============================] - 1s 297us/sample - loss: 0.5683 - tp: 387.0000 - fp: 485.0000 - tn: 3926.0000 - fn: 71.0000 - accuracy: 0.8858 - precision: 0.4438 - recall: 0.8450 - auc: 0.8984 - val_loss: 0.5502 - val_tp: 42.0000 - val_fp: 53.0000 - val_tn: 440.0000 - val_fn: 6.0000 - val_accuracy: 0.8909 - val_precision: 0.4421 - val_recall: 0.8750 - val_auc: 0.9249\n",
      "Epoch 86/100\n",
      "4869/4869 [==============================] - 1s 246us/sample - loss: 0.5688 - tp: 390.0000 - fp: 529.0000 - tn: 3882.0000 - fn: 68.0000 - accuracy: 0.8774 - precision: 0.4244 - recall: 0.8515 - auc: 0.9025 - val_loss: 0.5520 - val_tp: 42.0000 - val_fp: 56.0000 - val_tn: 437.0000 - val_fn: 6.0000 - val_accuracy: 0.8854 - val_precision: 0.4286 - val_recall: 0.8750 - val_auc: 0.9386\n",
      "Epoch 87/100\n",
      "4869/4869 [==============================] - 1s 223us/sample - loss: 0.5689 - tp: 380.0000 - fp: 481.0000 - tn: 3930.0000 - fn: 78.0000 - accuracy: 0.8852 - precision: 0.4413 - recall: 0.8297 - auc: 0.9034 - val_loss: 0.5505 - val_tp: 44.0000 - val_fp: 57.0000 - val_tn: 436.0000 - val_fn: 4.0000 - val_accuracy: 0.8872 - val_precision: 0.4356 - val_recall: 0.9167 - val_auc: 0.9208\n",
      "Epoch 88/100\n",
      "4869/4869 [==============================] - 1s 235us/sample - loss: 0.5685 - tp: 390.0000 - fp: 508.0000 - tn: 3903.0000 - fn: 68.0000 - accuracy: 0.8817 - precision: 0.4343 - recall: 0.8515 - auc: 0.9056 - val_loss: 0.5533 - val_tp: 46.0000 - val_fp: 78.0000 - val_tn: 415.0000 - val_fn: 2.0000 - val_accuracy: 0.8521 - val_precision: 0.3710 - val_recall: 0.9583 - val_auc: 0.9329\n",
      "Epoch 89/100\n",
      "4869/4869 [==============================] - 1s 232us/sample - loss: 0.5683 - tp: 391.0000 - fp: 542.0000 - tn: 3869.0000 - fn: 67.0000 - accuracy: 0.8749 - precision: 0.4191 - recall: 0.8537 - auc: 0.9032 - val_loss: 0.5502 - val_tp: 42.0000 - val_fp: 50.0000 - val_tn: 443.0000 - val_fn: 6.0000 - val_accuracy: 0.8965 - val_precision: 0.4565 - val_recall: 0.8750 - val_auc: 0.9250\n",
      "Epoch 90/100\n",
      "4869/4869 [==============================] - 1s 216us/sample - loss: 0.5682 - tp: 384.0000 - fp: 479.0000 - tn: 3932.0000 - fn: 74.0000 - accuracy: 0.8864 - precision: 0.4450 - recall: 0.8384 - auc: 0.9027 - val_loss: 0.5504 - val_tp: 43.0000 - val_fp: 59.0000 - val_tn: 434.0000 - val_fn: 5.0000 - val_accuracy: 0.8817 - val_precision: 0.4216 - val_recall: 0.8958 - val_auc: 0.9381\n",
      "Epoch 91/100\n",
      "4869/4869 [==============================] - 1s 221us/sample - loss: 0.5677 - tp: 382.0000 - fp: 459.0000 - tn: 3952.0000 - fn: 76.0000 - accuracy: 0.8901 - precision: 0.4542 - recall: 0.8341 - auc: 0.9038 - val_loss: 0.5574 - val_tp: 46.0000 - val_fp: 83.0000 - val_tn: 410.0000 - val_fn: 2.0000 - val_accuracy: 0.8429 - val_precision: 0.3566 - val_recall: 0.9583 - val_auc: 0.9282\n",
      "Epoch 92/100\n",
      "4869/4869 [==============================] - 1s 250us/sample - loss: 0.5679 - tp: 394.0000 - fp: 542.0000 - tn: 3869.0000 - fn: 64.0000 - accuracy: 0.8755 - precision: 0.4209 - recall: 0.8603 - auc: 0.9047 - val_loss: 0.5511 - val_tp: 42.0000 - val_fp: 53.0000 - val_tn: 440.0000 - val_fn: 6.0000 - val_accuracy: 0.8909 - val_precision: 0.4421 - val_recall: 0.8750 - val_auc: 0.9304\n",
      "Epoch 93/100\n",
      "4869/4869 [==============================] - 1s 243us/sample - loss: 0.5686 - tp: 380.0000 - fp: 472.0000 - tn: 3939.0000 - fn: 78.0000 - accuracy: 0.8870 - precision: 0.4460 - recall: 0.8297 - auc: 0.8990 - val_loss: 0.5517 - val_tp: 44.0000 - val_fp: 60.0000 - val_tn: 433.0000 - val_fn: 4.0000 - val_accuracy: 0.8817 - val_precision: 0.4231 - val_recall: 0.9167 - val_auc: 0.9342\n",
      "Epoch 94/100\n",
      "4869/4869 [==============================] - 1s 229us/sample - loss: 0.5679 - tp: 389.0000 - fp: 496.0000 - tn: 3915.0000 - fn: 69.0000 - accuracy: 0.8840 - precision: 0.4395 - recall: 0.8493 - auc: 0.9030 - val_loss: 0.5520 - val_tp: 44.0000 - val_fp: 61.0000 - val_tn: 432.0000 - val_fn: 4.0000 - val_accuracy: 0.8799 - val_precision: 0.4190 - val_recall: 0.9167 - val_auc: 0.9354\n",
      "Epoch 95/100\n",
      "4869/4869 [==============================] - 1s 224us/sample - loss: 0.5693 - tp: 388.0000 - fp: 519.0000 - tn: 3892.0000 - fn: 70.0000 - accuracy: 0.8790 - precision: 0.4278 - recall: 0.8472 - auc: 0.9012 - val_loss: 0.5522 - val_tp: 42.0000 - val_fp: 56.0000 - val_tn: 437.0000 - val_fn: 6.0000 - val_accuracy: 0.8854 - val_precision: 0.4286 - val_recall: 0.8750 - val_auc: 0.9299\n",
      "Epoch 96/100\n",
      "4869/4869 [==============================] - 1s 217us/sample - loss: 0.5682 - tp: 384.0000 - fp: 493.0000 - tn: 3918.0000 - fn: 74.0000 - accuracy: 0.8835 - precision: 0.4379 - recall: 0.8384 - auc: 0.9060 - val_loss: 0.5500 - val_tp: 47.0000 - val_fp: 76.0000 - val_tn: 417.0000 - val_fn: 1.0000 - val_accuracy: 0.8577 - val_precision: 0.3821 - val_recall: 0.9792 - val_auc: 0.9310\n",
      "Epoch 97/100\n",
      "4869/4869 [==============================] - 1s 235us/sample - loss: 0.5678 - tp: 388.0000 - fp: 520.0000 - tn: 3891.0000 - fn: 70.0000 - accuracy: 0.8788 - precision: 0.4273 - recall: 0.8472 - auc: 0.9011 - val_loss: 0.5517 - val_tp: 41.0000 - val_fp: 48.0000 - val_tn: 445.0000 - val_fn: 7.0000 - val_accuracy: 0.8983 - val_precision: 0.4607 - val_recall: 0.8542 - val_auc: 0.9214\n",
      "Epoch 98/100\n",
      "4869/4869 [==============================] - 1s 227us/sample - loss: 0.5691 - tp: 375.0000 - fp: 448.0000 - tn: 3963.0000 - fn: 83.0000 - accuracy: 0.8909 - precision: 0.4557 - recall: 0.8188 - auc: 0.8962 - val_loss: 0.5520 - val_tp: 44.0000 - val_fp: 60.0000 - val_tn: 433.0000 - val_fn: 4.0000 - val_accuracy: 0.8817 - val_precision: 0.4231 - val_recall: 0.9167 - val_auc: 0.9362\n",
      "Epoch 99/100\n",
      "4869/4869 [==============================] - 1s 227us/sample - loss: 0.5674 - tp: 385.0000 - fp: 472.0000 - tn: 3939.0000 - fn: 73.0000 - accuracy: 0.8881 - precision: 0.4492 - recall: 0.8406 - auc: 0.8976 - val_loss: 0.5493 - val_tp: 45.0000 - val_fp: 66.0000 - val_tn: 427.0000 - val_fn: 3.0000 - val_accuracy: 0.8725 - val_precision: 0.4054 - val_recall: 0.9375 - val_auc: 0.9346\n",
      "Epoch 100/100\n",
      "4869/4869 [==============================] - 1s 224us/sample - loss: 0.5680 - tp: 388.0000 - fp: 508.0000 - tn: 3903.0000 - fn: 70.0000 - accuracy: 0.8813 - precision: 0.4330 - recall: 0.8472 - auc: 0.9036 - val_loss: 0.5509 - val_tp: 43.0000 - val_fp: 56.0000 - val_tn: 437.0000 - val_fn: 5.0000 - val_accuracy: 0.8872 - val_precision: 0.4343 - val_recall: 0.8958 - val_auc: 0.9203\n"
     ]
    }
   ],
   "source": [
    "seq_history=seq.fit( x_train, y_train, epochs=100, validation_data=[x_test,y_test], class_weight=class_weight)\n"
   ]
  },
  {
   "cell_type": "code",
   "execution_count": 20,
   "metadata": {},
   "outputs": [],
   "source": [
    "prob = seq.predict(x_test)\n",
    "\n",
    "yhat = np.round(prob)"
   ]
  },
  {
   "cell_type": "code",
   "execution_count": 24,
   "metadata": {},
   "outputs": [
    {
     "ename": "NameError",
     "evalue": "name 'seq_history' is not defined",
     "output_type": "error",
     "traceback": [
      "\u001b[0;31m---------------------------------------------------------------------------\u001b[0m",
      "\u001b[0;31mNameError\u001b[0m                                 Traceback (most recent call last)",
      "\u001b[0;32m<ipython-input-24-0549a8cd5724>\u001b[0m in \u001b[0;36m<module>\u001b[0;34m\u001b[0m\n\u001b[0;32m----> 1\u001b[0;31m \u001b[0mplot_loss\u001b[0m\u001b[0;34m(\u001b[0m\u001b[0mseq_history\u001b[0m\u001b[0;34m,\u001b[0m \u001b[0;34m\"RNN Model\"\u001b[0m\u001b[0;34m,\u001b[0m \u001b[0;36m0\u001b[0m\u001b[0;34m)\u001b[0m\u001b[0;34m\u001b[0m\u001b[0;34m\u001b[0m\u001b[0m\n\u001b[0m",
      "\u001b[0;31mNameError\u001b[0m: name 'seq_history' is not defined"
     ]
    }
   ],
   "source": [
    "plot_loss(seq_history, \"RNN Model\", 0)"
   ]
  },
  {
   "cell_type": "code",
   "execution_count": 26,
   "metadata": {
    "scrolled": true
   },
   "outputs": [
    {
     "name": "stdout",
     "output_type": "stream",
     "text": [
      "              precision    recall  f1-score   support\n",
      "\n",
      "           0       0.92      0.95      0.93       493\n",
      "           1       0.23      0.17      0.19        48\n",
      "\n",
      "    accuracy                           0.88       541\n",
      "   macro avg       0.57      0.56      0.56       541\n",
      "weighted avg       0.86      0.88      0.87       541\n",
      "\n"
     ]
    }
   ],
   "source": [
    "from sklearn.metrics import confusion_matrix, classification_report\n",
    "print (classification_report(y_test, yhat))"
   ]
  },
  {
   "cell_type": "code",
   "execution_count": 25,
   "metadata": {},
   "outputs": [
    {
     "ename": "NameError",
     "evalue": "name 'model' is not defined",
     "output_type": "error",
     "traceback": [
      "\u001b[0;31m---------------------------------------------------------------------------\u001b[0m",
      "\u001b[0;31mNameError\u001b[0m                                 Traceback (most recent call last)",
      "\u001b[0;32m<ipython-input-25-648575ac6664>\u001b[0m in \u001b[0;36m<module>\u001b[0;34m\u001b[0m\n\u001b[1;32m      1\u001b[0m \u001b[0mRnn_results\u001b[0m \u001b[0;34m=\u001b[0m \u001b[0mseq\u001b[0m\u001b[0;34m.\u001b[0m\u001b[0mevaluate\u001b[0m\u001b[0;34m(\u001b[0m\u001b[0mx_test\u001b[0m\u001b[0;34m,\u001b[0m \u001b[0my_test\u001b[0m\u001b[0;34m,\u001b[0m \u001b[0mverbose\u001b[0m\u001b[0;34m=\u001b[0m\u001b[0;36m0\u001b[0m\u001b[0;34m)\u001b[0m\u001b[0;34m\u001b[0m\u001b[0;34m\u001b[0m\u001b[0m\n\u001b[0;32m----> 2\u001b[0;31m \u001b[0;32mfor\u001b[0m \u001b[0mname\u001b[0m\u001b[0;34m,\u001b[0m \u001b[0mvalue\u001b[0m \u001b[0;32min\u001b[0m \u001b[0mzip\u001b[0m\u001b[0;34m(\u001b[0m\u001b[0mmodel\u001b[0m\u001b[0;34m.\u001b[0m\u001b[0mmetrics_names\u001b[0m\u001b[0;34m,\u001b[0m \u001b[0mRnn_results\u001b[0m\u001b[0;34m)\u001b[0m\u001b[0;34m:\u001b[0m\u001b[0;34m\u001b[0m\u001b[0;34m\u001b[0m\u001b[0m\n\u001b[0m\u001b[1;32m      3\u001b[0m     \u001b[0mprint\u001b[0m\u001b[0;34m(\u001b[0m\u001b[0mname\u001b[0m\u001b[0;34m,\u001b[0m \u001b[0;34m': '\u001b[0m\u001b[0;34m,\u001b[0m \u001b[0mvalue\u001b[0m\u001b[0;34m)\u001b[0m\u001b[0;34m\u001b[0m\u001b[0;34m\u001b[0m\u001b[0m\n\u001b[1;32m      4\u001b[0m \u001b[0;34m\u001b[0m\u001b[0m\n\u001b[1;32m      5\u001b[0m \u001b[0mprint\u001b[0m\u001b[0;34m(\u001b[0m\u001b[0;34m)\u001b[0m\u001b[0;34m\u001b[0m\u001b[0;34m\u001b[0m\u001b[0m\n",
      "\u001b[0;31mNameError\u001b[0m: name 'model' is not defined"
     ]
    }
   ],
   "source": [
    "Rnn_results = seq.evaluate(x_test, y_test, verbose=0)\n",
    "for name, value in zip(model.metrics_names, Rnn_results):\n",
    "    print(name, ': ', value)\n",
    "    \n",
    "print()\n",
    "\n",
    "plot_cm(y_test, yhat)"
   ]
  },
  {
   "cell_type": "markdown",
   "metadata": {},
   "source": [
    "# CNN Model"
   ]
  },
  {
   "cell_type": "code",
   "execution_count": 27,
   "metadata": {},
   "outputs": [],
   "source": [
    "X_train3d = np.asarray(x_train).reshape(-1,1,x_train.shape[1])\n",
    "y_train3d = np.asarray(y_train).reshape(y_train.shape[0],1)\n",
    "X_test3d = np.asarray(x_test).reshape(-1,1,x_test.shape[1])\n",
    "y_test3d = np.asarray(y_test).reshape(y_test.shape[0],1)"
   ]
  },
  {
   "cell_type": "code",
   "execution_count": 28,
   "metadata": {},
   "outputs": [
    {
     "data": {
      "text/plain": [
       "(4869, 1, 9)"
      ]
     },
     "execution_count": 28,
     "metadata": {},
     "output_type": "execute_result"
    }
   ],
   "source": [
    "X_train3d.shape"
   ]
  },
  {
   "cell_type": "code",
   "execution_count": 31,
   "metadata": {},
   "outputs": [],
   "source": [
    "input_shape=(1,9)\n",
    "\n",
    "model = tf.keras.models.Sequential([\n",
    "  tf.keras.layers.Conv1D(filters=128, kernel_size=1,\n",
    "                      strides=1 , padding='same',\n",
    "                      activation= 'relu', \n",
    "                      input_shape=input_shape),\n",
    "  \n",
    "  tf.keras.layers.Conv1D(filters=64, kernel_size=1, activation= 'relu'),  \n",
    "  tf.keras.layers.Dropout(rate=.20),\n",
    "  tf.keras.layers.MaxPool1D(pool_size=1),\n",
    "  tf.keras.layers.Flatten(),\n",
    "  tf.keras.layers.Dense(32, activation= 'relu'),\n",
    "  tf.keras.layers.Dense(1, activation='sigmoid')])\n",
    "\n",
    "#tf.keras.layers.GlobalAveragePooling2D()\n",
    "early_stopping = tf.keras.callbacks.EarlyStopping(\n",
    "    monitor='val_auc', \n",
    "    verbose=1,\n",
    "    patience=10,\n",
    "    mode='max',\n",
    "    restore_best_weights=True)\n",
    "\n",
    "\n",
    "model.compile(optimizer=tf.keras.optimizers.Adam(lr=0.001),#defualt 0.001\n",
    "              loss=tf.keras.losses.BinaryCrossentropy(from_logits=True),\n",
    "              metrics= METRICS)\n"
   ]
  },
  {
   "cell_type": "code",
   "execution_count": 32,
   "metadata": {
    "scrolled": true
   },
   "outputs": [
    {
     "name": "stdout",
     "output_type": "stream",
     "text": [
      "Epoch 1/100\n",
      "153/153 [==============================] - ETA: 0s - loss: 0.6557 - tp: 254.0000 - fp: 635.0000 - tn: 3776.0000 - fn: 204.0000 - accuracy: 0.8277 - precision: 0.2857 - recall: 0.5546 - auc: 0.7965"
     ]
    },
    {
     "ename": "ValueError",
     "evalue": "in user code:\n\n    /home/aar/anaconda3/lib/python3.8/site-packages/tensorflow/python/keras/engine/training.py:941 test_function  *\n        outputs = self.distribute_strategy.run(\n    /home/aar/anaconda3/lib/python3.8/site-packages/tensorflow/python/distribute/distribute_lib.py:951 run  **\n        return self._extended.call_for_each_replica(fn, args=args, kwargs=kwargs)\n    /home/aar/anaconda3/lib/python3.8/site-packages/tensorflow/python/distribute/distribute_lib.py:2290 call_for_each_replica\n        return self._call_for_each_replica(fn, args, kwargs)\n    /home/aar/anaconda3/lib/python3.8/site-packages/tensorflow/python/distribute/distribute_lib.py:2649 _call_for_each_replica\n        return fn(*args, **kwargs)\n    /home/aar/anaconda3/lib/python3.8/site-packages/tensorflow/python/keras/engine/training.py:909 test_step  **\n        y_pred = self(x, training=False)\n    /home/aar/anaconda3/lib/python3.8/site-packages/tensorflow/python/keras/engine/base_layer.py:885 __call__\n        input_spec.assert_input_compatibility(self.input_spec, inputs,\n    /home/aar/anaconda3/lib/python3.8/site-packages/tensorflow/python/keras/engine/input_spec.py:155 assert_input_compatibility\n        raise ValueError('Layer ' + layer_name + ' expects ' +\n\n    ValueError: Layer sequential_2 expects 1 inputs, but it received 2 input tensors. Inputs received: [<tf.Tensor 'IteratorGetNext:0' shape=(None, 1, 9) dtype=float32>, <tf.Tensor 'ExpandDims:0' shape=(None, 1) dtype=int64>]\n",
     "output_type": "error",
     "traceback": [
      "\u001b[0;31m---------------------------------------------------------------------------\u001b[0m",
      "\u001b[0;31mValueError\u001b[0m                                Traceback (most recent call last)",
      "\u001b[0;32m<ipython-input-32-542b4c2233ae>\u001b[0m in \u001b[0;36m<module>\u001b[0;34m\u001b[0m\n\u001b[0;32m----> 1\u001b[0;31m cnn_history = model.fit(X_train3d,y_train,epochs=100, validation_data=[X_test3d,y_test],\n\u001b[0m\u001b[1;32m      2\u001b[0m                     class_weight=class_weight, callbacks = [early_stopping])\n",
      "\u001b[0;32m~/anaconda3/lib/python3.8/site-packages/tensorflow/python/keras/engine/training.py\u001b[0m in \u001b[0;36m_method_wrapper\u001b[0;34m(self, *args, **kwargs)\u001b[0m\n\u001b[1;32m     64\u001b[0m   \u001b[0;32mdef\u001b[0m \u001b[0m_method_wrapper\u001b[0m\u001b[0;34m(\u001b[0m\u001b[0mself\u001b[0m\u001b[0;34m,\u001b[0m \u001b[0;34m*\u001b[0m\u001b[0margs\u001b[0m\u001b[0;34m,\u001b[0m \u001b[0;34m**\u001b[0m\u001b[0mkwargs\u001b[0m\u001b[0;34m)\u001b[0m\u001b[0;34m:\u001b[0m\u001b[0;34m\u001b[0m\u001b[0;34m\u001b[0m\u001b[0m\n\u001b[1;32m     65\u001b[0m     \u001b[0;32mif\u001b[0m \u001b[0;32mnot\u001b[0m \u001b[0mself\u001b[0m\u001b[0;34m.\u001b[0m\u001b[0m_in_multi_worker_mode\u001b[0m\u001b[0;34m(\u001b[0m\u001b[0;34m)\u001b[0m\u001b[0;34m:\u001b[0m  \u001b[0;31m# pylint: disable=protected-access\u001b[0m\u001b[0;34m\u001b[0m\u001b[0;34m\u001b[0m\u001b[0m\n\u001b[0;32m---> 66\u001b[0;31m       \u001b[0;32mreturn\u001b[0m \u001b[0mmethod\u001b[0m\u001b[0;34m(\u001b[0m\u001b[0mself\u001b[0m\u001b[0;34m,\u001b[0m \u001b[0;34m*\u001b[0m\u001b[0margs\u001b[0m\u001b[0;34m,\u001b[0m \u001b[0;34m**\u001b[0m\u001b[0mkwargs\u001b[0m\u001b[0;34m)\u001b[0m\u001b[0;34m\u001b[0m\u001b[0;34m\u001b[0m\u001b[0m\n\u001b[0m\u001b[1;32m     67\u001b[0m \u001b[0;34m\u001b[0m\u001b[0m\n\u001b[1;32m     68\u001b[0m     \u001b[0;31m# Running inside `run_distribute_coordinator` already.\u001b[0m\u001b[0;34m\u001b[0m\u001b[0;34m\u001b[0m\u001b[0;34m\u001b[0m\u001b[0m\n",
      "\u001b[0;32m~/anaconda3/lib/python3.8/site-packages/tensorflow/python/keras/engine/training.py\u001b[0m in \u001b[0;36mfit\u001b[0;34m(self, x, y, batch_size, epochs, verbose, callbacks, validation_split, validation_data, shuffle, class_weight, sample_weight, initial_epoch, steps_per_epoch, validation_steps, validation_batch_size, validation_freq, max_queue_size, workers, use_multiprocessing)\u001b[0m\n\u001b[1;32m    860\u001b[0m           val_x, val_y, val_sample_weight = (\n\u001b[1;32m    861\u001b[0m               data_adapter.unpack_x_y_sample_weight(validation_data))\n\u001b[0;32m--> 862\u001b[0;31m           val_logs = self.evaluate(\n\u001b[0m\u001b[1;32m    863\u001b[0m               \u001b[0mx\u001b[0m\u001b[0;34m=\u001b[0m\u001b[0mval_x\u001b[0m\u001b[0;34m,\u001b[0m\u001b[0;34m\u001b[0m\u001b[0;34m\u001b[0m\u001b[0m\n\u001b[1;32m    864\u001b[0m               \u001b[0my\u001b[0m\u001b[0;34m=\u001b[0m\u001b[0mval_y\u001b[0m\u001b[0;34m,\u001b[0m\u001b[0;34m\u001b[0m\u001b[0;34m\u001b[0m\u001b[0m\n",
      "\u001b[0;32m~/anaconda3/lib/python3.8/site-packages/tensorflow/python/keras/engine/training.py\u001b[0m in \u001b[0;36m_method_wrapper\u001b[0;34m(self, *args, **kwargs)\u001b[0m\n\u001b[1;32m     64\u001b[0m   \u001b[0;32mdef\u001b[0m \u001b[0m_method_wrapper\u001b[0m\u001b[0;34m(\u001b[0m\u001b[0mself\u001b[0m\u001b[0;34m,\u001b[0m \u001b[0;34m*\u001b[0m\u001b[0margs\u001b[0m\u001b[0;34m,\u001b[0m \u001b[0;34m**\u001b[0m\u001b[0mkwargs\u001b[0m\u001b[0;34m)\u001b[0m\u001b[0;34m:\u001b[0m\u001b[0;34m\u001b[0m\u001b[0;34m\u001b[0m\u001b[0m\n\u001b[1;32m     65\u001b[0m     \u001b[0;32mif\u001b[0m \u001b[0;32mnot\u001b[0m \u001b[0mself\u001b[0m\u001b[0;34m.\u001b[0m\u001b[0m_in_multi_worker_mode\u001b[0m\u001b[0;34m(\u001b[0m\u001b[0;34m)\u001b[0m\u001b[0;34m:\u001b[0m  \u001b[0;31m# pylint: disable=protected-access\u001b[0m\u001b[0;34m\u001b[0m\u001b[0;34m\u001b[0m\u001b[0m\n\u001b[0;32m---> 66\u001b[0;31m       \u001b[0;32mreturn\u001b[0m \u001b[0mmethod\u001b[0m\u001b[0;34m(\u001b[0m\u001b[0mself\u001b[0m\u001b[0;34m,\u001b[0m \u001b[0;34m*\u001b[0m\u001b[0margs\u001b[0m\u001b[0;34m,\u001b[0m \u001b[0;34m**\u001b[0m\u001b[0mkwargs\u001b[0m\u001b[0;34m)\u001b[0m\u001b[0;34m\u001b[0m\u001b[0;34m\u001b[0m\u001b[0m\n\u001b[0m\u001b[1;32m     67\u001b[0m \u001b[0;34m\u001b[0m\u001b[0m\n\u001b[1;32m     68\u001b[0m     \u001b[0;31m# Running inside `run_distribute_coordinator` already.\u001b[0m\u001b[0;34m\u001b[0m\u001b[0;34m\u001b[0m\u001b[0;34m\u001b[0m\u001b[0m\n",
      "\u001b[0;32m~/anaconda3/lib/python3.8/site-packages/tensorflow/python/keras/engine/training.py\u001b[0m in \u001b[0;36mevaluate\u001b[0;34m(self, x, y, batch_size, verbose, sample_weight, steps, callbacks, max_queue_size, workers, use_multiprocessing, return_dict)\u001b[0m\n\u001b[1;32m   1079\u001b[0m                 step_num=step):\n\u001b[1;32m   1080\u001b[0m               \u001b[0mcallbacks\u001b[0m\u001b[0;34m.\u001b[0m\u001b[0mon_test_batch_begin\u001b[0m\u001b[0;34m(\u001b[0m\u001b[0mstep\u001b[0m\u001b[0;34m)\u001b[0m\u001b[0;34m\u001b[0m\u001b[0;34m\u001b[0m\u001b[0m\n\u001b[0;32m-> 1081\u001b[0;31m               \u001b[0mtmp_logs\u001b[0m \u001b[0;34m=\u001b[0m \u001b[0mtest_function\u001b[0m\u001b[0;34m(\u001b[0m\u001b[0miterator\u001b[0m\u001b[0;34m)\u001b[0m\u001b[0;34m\u001b[0m\u001b[0;34m\u001b[0m\u001b[0m\n\u001b[0m\u001b[1;32m   1082\u001b[0m               \u001b[0;31m# Catch OutOfRangeError for Datasets of unknown size.\u001b[0m\u001b[0;34m\u001b[0m\u001b[0;34m\u001b[0m\u001b[0;34m\u001b[0m\u001b[0m\n\u001b[1;32m   1083\u001b[0m               \u001b[0;31m# This blocks until the batch has finished executing.\u001b[0m\u001b[0;34m\u001b[0m\u001b[0;34m\u001b[0m\u001b[0;34m\u001b[0m\u001b[0m\n",
      "\u001b[0;32m~/anaconda3/lib/python3.8/site-packages/tensorflow/python/eager/def_function.py\u001b[0m in \u001b[0;36m__call__\u001b[0;34m(self, *args, **kwds)\u001b[0m\n\u001b[1;32m    578\u001b[0m         \u001b[0mxla_context\u001b[0m\u001b[0;34m.\u001b[0m\u001b[0mExit\u001b[0m\u001b[0;34m(\u001b[0m\u001b[0;34m)\u001b[0m\u001b[0;34m\u001b[0m\u001b[0;34m\u001b[0m\u001b[0m\n\u001b[1;32m    579\u001b[0m     \u001b[0;32melse\u001b[0m\u001b[0;34m:\u001b[0m\u001b[0;34m\u001b[0m\u001b[0;34m\u001b[0m\u001b[0m\n\u001b[0;32m--> 580\u001b[0;31m       \u001b[0mresult\u001b[0m \u001b[0;34m=\u001b[0m \u001b[0mself\u001b[0m\u001b[0;34m.\u001b[0m\u001b[0m_call\u001b[0m\u001b[0;34m(\u001b[0m\u001b[0;34m*\u001b[0m\u001b[0margs\u001b[0m\u001b[0;34m,\u001b[0m \u001b[0;34m**\u001b[0m\u001b[0mkwds\u001b[0m\u001b[0;34m)\u001b[0m\u001b[0;34m\u001b[0m\u001b[0;34m\u001b[0m\u001b[0m\n\u001b[0m\u001b[1;32m    581\u001b[0m \u001b[0;34m\u001b[0m\u001b[0m\n\u001b[1;32m    582\u001b[0m     \u001b[0;32mif\u001b[0m \u001b[0mtracing_count\u001b[0m \u001b[0;34m==\u001b[0m \u001b[0mself\u001b[0m\u001b[0;34m.\u001b[0m\u001b[0m_get_tracing_count\u001b[0m\u001b[0;34m(\u001b[0m\u001b[0;34m)\u001b[0m\u001b[0;34m:\u001b[0m\u001b[0;34m\u001b[0m\u001b[0;34m\u001b[0m\u001b[0m\n",
      "\u001b[0;32m~/anaconda3/lib/python3.8/site-packages/tensorflow/python/eager/def_function.py\u001b[0m in \u001b[0;36m_call\u001b[0;34m(self, *args, **kwds)\u001b[0m\n\u001b[1;32m    625\u001b[0m       \u001b[0;31m# This is the first call of __call__, so we have to initialize.\u001b[0m\u001b[0;34m\u001b[0m\u001b[0;34m\u001b[0m\u001b[0;34m\u001b[0m\u001b[0m\n\u001b[1;32m    626\u001b[0m       \u001b[0minitializers\u001b[0m \u001b[0;34m=\u001b[0m \u001b[0;34m[\u001b[0m\u001b[0;34m]\u001b[0m\u001b[0;34m\u001b[0m\u001b[0;34m\u001b[0m\u001b[0m\n\u001b[0;32m--> 627\u001b[0;31m       \u001b[0mself\u001b[0m\u001b[0;34m.\u001b[0m\u001b[0m_initialize\u001b[0m\u001b[0;34m(\u001b[0m\u001b[0margs\u001b[0m\u001b[0;34m,\u001b[0m \u001b[0mkwds\u001b[0m\u001b[0;34m,\u001b[0m \u001b[0madd_initializers_to\u001b[0m\u001b[0;34m=\u001b[0m\u001b[0minitializers\u001b[0m\u001b[0;34m)\u001b[0m\u001b[0;34m\u001b[0m\u001b[0;34m\u001b[0m\u001b[0m\n\u001b[0m\u001b[1;32m    628\u001b[0m     \u001b[0;32mfinally\u001b[0m\u001b[0;34m:\u001b[0m\u001b[0;34m\u001b[0m\u001b[0;34m\u001b[0m\u001b[0m\n\u001b[1;32m    629\u001b[0m       \u001b[0;31m# At this point we know that the initialization is complete (or less\u001b[0m\u001b[0;34m\u001b[0m\u001b[0;34m\u001b[0m\u001b[0;34m\u001b[0m\u001b[0m\n",
      "\u001b[0;32m~/anaconda3/lib/python3.8/site-packages/tensorflow/python/eager/def_function.py\u001b[0m in \u001b[0;36m_initialize\u001b[0;34m(self, args, kwds, add_initializers_to)\u001b[0m\n\u001b[1;32m    503\u001b[0m     \u001b[0mself\u001b[0m\u001b[0;34m.\u001b[0m\u001b[0m_graph_deleter\u001b[0m \u001b[0;34m=\u001b[0m \u001b[0mFunctionDeleter\u001b[0m\u001b[0;34m(\u001b[0m\u001b[0mself\u001b[0m\u001b[0;34m.\u001b[0m\u001b[0m_lifted_initializer_graph\u001b[0m\u001b[0;34m)\u001b[0m\u001b[0;34m\u001b[0m\u001b[0;34m\u001b[0m\u001b[0m\n\u001b[1;32m    504\u001b[0m     self._concrete_stateful_fn = (\n\u001b[0;32m--> 505\u001b[0;31m         self._stateful_fn._get_concrete_function_internal_garbage_collected(  # pylint: disable=protected-access\n\u001b[0m\u001b[1;32m    506\u001b[0m             *args, **kwds))\n\u001b[1;32m    507\u001b[0m \u001b[0;34m\u001b[0m\u001b[0m\n",
      "\u001b[0;32m~/anaconda3/lib/python3.8/site-packages/tensorflow/python/eager/function.py\u001b[0m in \u001b[0;36m_get_concrete_function_internal_garbage_collected\u001b[0;34m(self, *args, **kwargs)\u001b[0m\n\u001b[1;32m   2444\u001b[0m       \u001b[0margs\u001b[0m\u001b[0;34m,\u001b[0m \u001b[0mkwargs\u001b[0m \u001b[0;34m=\u001b[0m \u001b[0;32mNone\u001b[0m\u001b[0;34m,\u001b[0m \u001b[0;32mNone\u001b[0m\u001b[0;34m\u001b[0m\u001b[0;34m\u001b[0m\u001b[0m\n\u001b[1;32m   2445\u001b[0m     \u001b[0;32mwith\u001b[0m \u001b[0mself\u001b[0m\u001b[0;34m.\u001b[0m\u001b[0m_lock\u001b[0m\u001b[0;34m:\u001b[0m\u001b[0;34m\u001b[0m\u001b[0;34m\u001b[0m\u001b[0m\n\u001b[0;32m-> 2446\u001b[0;31m       \u001b[0mgraph_function\u001b[0m\u001b[0;34m,\u001b[0m \u001b[0m_\u001b[0m\u001b[0;34m,\u001b[0m \u001b[0m_\u001b[0m \u001b[0;34m=\u001b[0m \u001b[0mself\u001b[0m\u001b[0;34m.\u001b[0m\u001b[0m_maybe_define_function\u001b[0m\u001b[0;34m(\u001b[0m\u001b[0margs\u001b[0m\u001b[0;34m,\u001b[0m \u001b[0mkwargs\u001b[0m\u001b[0;34m)\u001b[0m\u001b[0;34m\u001b[0m\u001b[0;34m\u001b[0m\u001b[0m\n\u001b[0m\u001b[1;32m   2447\u001b[0m     \u001b[0;32mreturn\u001b[0m \u001b[0mgraph_function\u001b[0m\u001b[0;34m\u001b[0m\u001b[0;34m\u001b[0m\u001b[0m\n\u001b[1;32m   2448\u001b[0m \u001b[0;34m\u001b[0m\u001b[0m\n",
      "\u001b[0;32m~/anaconda3/lib/python3.8/site-packages/tensorflow/python/eager/function.py\u001b[0m in \u001b[0;36m_maybe_define_function\u001b[0;34m(self, args, kwargs)\u001b[0m\n\u001b[1;32m   2775\u001b[0m \u001b[0;34m\u001b[0m\u001b[0m\n\u001b[1;32m   2776\u001b[0m       \u001b[0mself\u001b[0m\u001b[0;34m.\u001b[0m\u001b[0m_function_cache\u001b[0m\u001b[0;34m.\u001b[0m\u001b[0mmissed\u001b[0m\u001b[0;34m.\u001b[0m\u001b[0madd\u001b[0m\u001b[0;34m(\u001b[0m\u001b[0mcall_context_key\u001b[0m\u001b[0;34m)\u001b[0m\u001b[0;34m\u001b[0m\u001b[0;34m\u001b[0m\u001b[0m\n\u001b[0;32m-> 2777\u001b[0;31m       \u001b[0mgraph_function\u001b[0m \u001b[0;34m=\u001b[0m \u001b[0mself\u001b[0m\u001b[0;34m.\u001b[0m\u001b[0m_create_graph_function\u001b[0m\u001b[0;34m(\u001b[0m\u001b[0margs\u001b[0m\u001b[0;34m,\u001b[0m \u001b[0mkwargs\u001b[0m\u001b[0;34m)\u001b[0m\u001b[0;34m\u001b[0m\u001b[0;34m\u001b[0m\u001b[0m\n\u001b[0m\u001b[1;32m   2778\u001b[0m       \u001b[0mself\u001b[0m\u001b[0;34m.\u001b[0m\u001b[0m_function_cache\u001b[0m\u001b[0;34m.\u001b[0m\u001b[0mprimary\u001b[0m\u001b[0;34m[\u001b[0m\u001b[0mcache_key\u001b[0m\u001b[0;34m]\u001b[0m \u001b[0;34m=\u001b[0m \u001b[0mgraph_function\u001b[0m\u001b[0;34m\u001b[0m\u001b[0;34m\u001b[0m\u001b[0m\n\u001b[1;32m   2779\u001b[0m       \u001b[0;32mreturn\u001b[0m \u001b[0mgraph_function\u001b[0m\u001b[0;34m,\u001b[0m \u001b[0margs\u001b[0m\u001b[0;34m,\u001b[0m \u001b[0mkwargs\u001b[0m\u001b[0;34m\u001b[0m\u001b[0;34m\u001b[0m\u001b[0m\n",
      "\u001b[0;32m~/anaconda3/lib/python3.8/site-packages/tensorflow/python/eager/function.py\u001b[0m in \u001b[0;36m_create_graph_function\u001b[0;34m(self, args, kwargs, override_flat_arg_shapes)\u001b[0m\n\u001b[1;32m   2655\u001b[0m     \u001b[0marg_names\u001b[0m \u001b[0;34m=\u001b[0m \u001b[0mbase_arg_names\u001b[0m \u001b[0;34m+\u001b[0m \u001b[0mmissing_arg_names\u001b[0m\u001b[0;34m\u001b[0m\u001b[0;34m\u001b[0m\u001b[0m\n\u001b[1;32m   2656\u001b[0m     graph_function = ConcreteFunction(\n\u001b[0;32m-> 2657\u001b[0;31m         func_graph_module.func_graph_from_py_func(\n\u001b[0m\u001b[1;32m   2658\u001b[0m             \u001b[0mself\u001b[0m\u001b[0;34m.\u001b[0m\u001b[0m_name\u001b[0m\u001b[0;34m,\u001b[0m\u001b[0;34m\u001b[0m\u001b[0;34m\u001b[0m\u001b[0m\n\u001b[1;32m   2659\u001b[0m             \u001b[0mself\u001b[0m\u001b[0;34m.\u001b[0m\u001b[0m_python_function\u001b[0m\u001b[0;34m,\u001b[0m\u001b[0;34m\u001b[0m\u001b[0;34m\u001b[0m\u001b[0m\n",
      "\u001b[0;32m~/anaconda3/lib/python3.8/site-packages/tensorflow/python/framework/func_graph.py\u001b[0m in \u001b[0;36mfunc_graph_from_py_func\u001b[0;34m(name, python_func, args, kwargs, signature, func_graph, autograph, autograph_options, add_control_dependencies, arg_names, op_return_value, collections, capture_by_value, override_flat_arg_shapes)\u001b[0m\n\u001b[1;32m    979\u001b[0m         \u001b[0m_\u001b[0m\u001b[0;34m,\u001b[0m \u001b[0moriginal_func\u001b[0m \u001b[0;34m=\u001b[0m \u001b[0mtf_decorator\u001b[0m\u001b[0;34m.\u001b[0m\u001b[0munwrap\u001b[0m\u001b[0;34m(\u001b[0m\u001b[0mpython_func\u001b[0m\u001b[0;34m)\u001b[0m\u001b[0;34m\u001b[0m\u001b[0;34m\u001b[0m\u001b[0m\n\u001b[1;32m    980\u001b[0m \u001b[0;34m\u001b[0m\u001b[0m\n\u001b[0;32m--> 981\u001b[0;31m       \u001b[0mfunc_outputs\u001b[0m \u001b[0;34m=\u001b[0m \u001b[0mpython_func\u001b[0m\u001b[0;34m(\u001b[0m\u001b[0;34m*\u001b[0m\u001b[0mfunc_args\u001b[0m\u001b[0;34m,\u001b[0m \u001b[0;34m**\u001b[0m\u001b[0mfunc_kwargs\u001b[0m\u001b[0;34m)\u001b[0m\u001b[0;34m\u001b[0m\u001b[0;34m\u001b[0m\u001b[0m\n\u001b[0m\u001b[1;32m    982\u001b[0m \u001b[0;34m\u001b[0m\u001b[0m\n\u001b[1;32m    983\u001b[0m       \u001b[0;31m# invariant: `func_outputs` contains only Tensors, CompositeTensors,\u001b[0m\u001b[0;34m\u001b[0m\u001b[0;34m\u001b[0m\u001b[0;34m\u001b[0m\u001b[0m\n",
      "\u001b[0;32m~/anaconda3/lib/python3.8/site-packages/tensorflow/python/eager/def_function.py\u001b[0m in \u001b[0;36mwrapped_fn\u001b[0;34m(*args, **kwds)\u001b[0m\n\u001b[1;32m    439\u001b[0m         \u001b[0;31m# __wrapped__ allows AutoGraph to swap in a converted function. We give\u001b[0m\u001b[0;34m\u001b[0m\u001b[0;34m\u001b[0m\u001b[0;34m\u001b[0m\u001b[0m\n\u001b[1;32m    440\u001b[0m         \u001b[0;31m# the function a weak reference to itself to avoid a reference cycle.\u001b[0m\u001b[0;34m\u001b[0m\u001b[0;34m\u001b[0m\u001b[0;34m\u001b[0m\u001b[0m\n\u001b[0;32m--> 441\u001b[0;31m         \u001b[0;32mreturn\u001b[0m \u001b[0mweak_wrapped_fn\u001b[0m\u001b[0;34m(\u001b[0m\u001b[0;34m)\u001b[0m\u001b[0;34m.\u001b[0m\u001b[0m__wrapped__\u001b[0m\u001b[0;34m(\u001b[0m\u001b[0;34m*\u001b[0m\u001b[0margs\u001b[0m\u001b[0;34m,\u001b[0m \u001b[0;34m**\u001b[0m\u001b[0mkwds\u001b[0m\u001b[0;34m)\u001b[0m\u001b[0;34m\u001b[0m\u001b[0;34m\u001b[0m\u001b[0m\n\u001b[0m\u001b[1;32m    442\u001b[0m     \u001b[0mweak_wrapped_fn\u001b[0m \u001b[0;34m=\u001b[0m \u001b[0mweakref\u001b[0m\u001b[0;34m.\u001b[0m\u001b[0mref\u001b[0m\u001b[0;34m(\u001b[0m\u001b[0mwrapped_fn\u001b[0m\u001b[0;34m)\u001b[0m\u001b[0;34m\u001b[0m\u001b[0;34m\u001b[0m\u001b[0m\n\u001b[1;32m    443\u001b[0m \u001b[0;34m\u001b[0m\u001b[0m\n",
      "\u001b[0;32m~/anaconda3/lib/python3.8/site-packages/tensorflow/python/framework/func_graph.py\u001b[0m in \u001b[0;36mwrapper\u001b[0;34m(*args, **kwargs)\u001b[0m\n\u001b[1;32m    966\u001b[0m           \u001b[0;32mexcept\u001b[0m \u001b[0mException\u001b[0m \u001b[0;32mas\u001b[0m \u001b[0me\u001b[0m\u001b[0;34m:\u001b[0m  \u001b[0;31m# pylint:disable=broad-except\u001b[0m\u001b[0;34m\u001b[0m\u001b[0;34m\u001b[0m\u001b[0m\n\u001b[1;32m    967\u001b[0m             \u001b[0;32mif\u001b[0m \u001b[0mhasattr\u001b[0m\u001b[0;34m(\u001b[0m\u001b[0me\u001b[0m\u001b[0;34m,\u001b[0m \u001b[0;34m\"ag_error_metadata\"\u001b[0m\u001b[0;34m)\u001b[0m\u001b[0;34m:\u001b[0m\u001b[0;34m\u001b[0m\u001b[0;34m\u001b[0m\u001b[0m\n\u001b[0;32m--> 968\u001b[0;31m               \u001b[0;32mraise\u001b[0m \u001b[0me\u001b[0m\u001b[0;34m.\u001b[0m\u001b[0mag_error_metadata\u001b[0m\u001b[0;34m.\u001b[0m\u001b[0mto_exception\u001b[0m\u001b[0;34m(\u001b[0m\u001b[0me\u001b[0m\u001b[0;34m)\u001b[0m\u001b[0;34m\u001b[0m\u001b[0;34m\u001b[0m\u001b[0m\n\u001b[0m\u001b[1;32m    969\u001b[0m             \u001b[0;32melse\u001b[0m\u001b[0;34m:\u001b[0m\u001b[0;34m\u001b[0m\u001b[0;34m\u001b[0m\u001b[0m\n\u001b[1;32m    970\u001b[0m               \u001b[0;32mraise\u001b[0m\u001b[0;34m\u001b[0m\u001b[0;34m\u001b[0m\u001b[0m\n",
      "\u001b[0;31mValueError\u001b[0m: in user code:\n\n    /home/aar/anaconda3/lib/python3.8/site-packages/tensorflow/python/keras/engine/training.py:941 test_function  *\n        outputs = self.distribute_strategy.run(\n    /home/aar/anaconda3/lib/python3.8/site-packages/tensorflow/python/distribute/distribute_lib.py:951 run  **\n        return self._extended.call_for_each_replica(fn, args=args, kwargs=kwargs)\n    /home/aar/anaconda3/lib/python3.8/site-packages/tensorflow/python/distribute/distribute_lib.py:2290 call_for_each_replica\n        return self._call_for_each_replica(fn, args, kwargs)\n    /home/aar/anaconda3/lib/python3.8/site-packages/tensorflow/python/distribute/distribute_lib.py:2649 _call_for_each_replica\n        return fn(*args, **kwargs)\n    /home/aar/anaconda3/lib/python3.8/site-packages/tensorflow/python/keras/engine/training.py:909 test_step  **\n        y_pred = self(x, training=False)\n    /home/aar/anaconda3/lib/python3.8/site-packages/tensorflow/python/keras/engine/base_layer.py:885 __call__\n        input_spec.assert_input_compatibility(self.input_spec, inputs,\n    /home/aar/anaconda3/lib/python3.8/site-packages/tensorflow/python/keras/engine/input_spec.py:155 assert_input_compatibility\n        raise ValueError('Layer ' + layer_name + ' expects ' +\n\n    ValueError: Layer sequential_2 expects 1 inputs, but it received 2 input tensors. Inputs received: [<tf.Tensor 'IteratorGetNext:0' shape=(None, 1, 9) dtype=float32>, <tf.Tensor 'ExpandDims:0' shape=(None, 1) dtype=int64>]\n"
     ]
    }
   ],
   "source": [
    "cnn_history = model.fit(X_train3d,y_train,epochs=100, validation_data=[X_test3d,y_test],\n",
    "                    class_weight=class_weight, callbacks = [early_stopping])"
   ]
  },
  {
   "cell_type": "code",
   "execution_count": 33,
   "metadata": {},
   "outputs": [],
   "source": [
    "cnn_Pred = model.predict(X_test3d)\n",
    "yhat_cnn = np.round(cnn_Pred)"
   ]
  },
  {
   "cell_type": "code",
   "execution_count": 34,
   "metadata": {},
   "outputs": [
    {
     "ename": "NameError",
     "evalue": "name 'cnn_history' is not defined",
     "output_type": "error",
     "traceback": [
      "\u001b[0;31m---------------------------------------------------------------------------\u001b[0m",
      "\u001b[0;31mNameError\u001b[0m                                 Traceback (most recent call last)",
      "\u001b[0;32m<ipython-input-34-d613065b809a>\u001b[0m in \u001b[0;36m<module>\u001b[0;34m\u001b[0m\n\u001b[0;32m----> 1\u001b[0;31m \u001b[0mplot_loss\u001b[0m\u001b[0;34m(\u001b[0m\u001b[0mcnn_history\u001b[0m\u001b[0;34m,\u001b[0m \u001b[0;34m\"cnn_model\"\u001b[0m\u001b[0;34m,\u001b[0m \u001b[0;36m0\u001b[0m\u001b[0;34m)\u001b[0m\u001b[0;34m\u001b[0m\u001b[0;34m\u001b[0m\u001b[0m\n\u001b[0m",
      "\u001b[0;31mNameError\u001b[0m: name 'cnn_history' is not defined"
     ]
    }
   ],
   "source": [
    "plot_loss(cnn_history, \"cnn_model\", 0)"
   ]
  },
  {
   "cell_type": "code",
   "execution_count": 35,
   "metadata": {},
   "outputs": [
    {
     "name": "stdout",
     "output_type": "stream",
     "text": [
      "              precision    recall  f1-score   support\n",
      "\n",
      "           0       0.92      0.95      0.93       493\n",
      "           1       0.23      0.17      0.19        48\n",
      "\n",
      "    accuracy                           0.88       541\n",
      "   macro avg       0.57      0.56      0.56       541\n",
      "weighted avg       0.86      0.88      0.87       541\n",
      "\n"
     ]
    }
   ],
   "source": [
    "from sklearn.metrics import confusion_matrix, classification_report\n",
    "print (classification_report(y_test, yhat))"
   ]
  },
  {
   "cell_type": "code",
   "execution_count": 225,
   "metadata": {
    "scrolled": true
   },
   "outputs": [
    {
     "name": "stdout",
     "output_type": "stream",
     "text": [
      "loss :  0.7204794080552684\n",
      "tp :  41.0\n",
      "fp :  43.0\n",
      "tn :  450.0\n",
      "fn :  7.0\n",
      "accuracy :  0.9075786\n",
      "precision :  0.48809522\n",
      "recall :  0.8541667\n",
      "auc :  0.9521638\n",
      "\n",
      "Legitimate Transactions Detected (True Negatives):  450\n",
      "Legitimate Transactions Incorrectly Detected (False Positives):  43\n",
      "Fraudulent Transactions Missed (False Negatives):  7\n",
      "Fraudulent Transactions Detected (True Positives):  41\n",
      "Total Fraudulent Transactions:  48\n"
     ]
    },
    {
     "data": {
      "image/png": "[encoded data removed]",
      "text/plain": [
       "<Figure size 360x360 with 2 Axes>"
      ]
     },
     "metadata": {
      "needs_background": "light"
     },
     "output_type": "display_data"
    }
   ],
   "source": [
    "cnn_results = model.evaluate(X_test3d, y_test, verbose=0)\n",
    "for name, value in zip(model.metrics_names, cnn_results):\n",
    "    print(name, ': ', value)\n",
    "    \n",
    "print()\n",
    "\n",
    "plot_cm(y_test, yhat_cnn)"
   ]
  },
  {
   "cell_type": "code",
   "execution_count": 226,
   "metadata": {},
   "outputs": [
    {
     "data": {
      "image/png": "[encoded data removed]",
      "text/plain": [
       "<Figure size 864x720 with 4 Axes>"
      ]
     },
     "metadata": {
      "needs_background": "light"
     },
     "output_type": "display_data"
    }
   ],
   "source": [
    "plot_metrics(cnn_history)"
   ]
  },
  {
   "cell_type": "markdown",
   "metadata": {},
   "source": [
    "# Tensorflow on Imbalanced data"
   ]
  },
  {
   "cell_type": "code",
   "execution_count": 229,
   "metadata": {},
   "outputs": [],
   "source": [
    "METRICS = [\n",
    "      keras.metrics.TruePositives(name='tp'),\n",
    "      keras.metrics.FalsePositives(name='fp'),\n",
    "      keras.metrics.TrueNegatives(name='tn'),\n",
    "      keras.metrics.FalseNegatives(name='fn'), \n",
    "      keras.metrics.BinaryAccuracy(name='accuracy'),\n",
    "      keras.metrics.Precision(name='precision'),\n",
    "      keras.metrics.Recall(name='recall'),\n",
    "      keras.metrics.AUC(name='auc'),\n",
    "]\n",
    "\n",
    "def make_model(metrics = METRICS, output_bias=None):\n",
    "    if output_bias is not None:\n",
    "        output_bias = tf.keras.initializers.Constant(output_bias)\n",
    "    model = keras.Sequential([\n",
    "      keras.layers.Dense(\n",
    "          16, activation='relu',\n",
    "          input_shape=(X_train3d.shape[-1],)),\n",
    "      keras.layers.Dropout(0.5),\n",
    "      keras.layers.Dense(1, activation='sigmoid',\n",
    "                         bias_initializer=output_bias),\n",
    "  ])\n",
    "\n",
    "    model.compile(\n",
    "      optimizer=keras.optimizers.Adam(lr=0.001),\n",
    "      loss=keras.losses.BinaryCrossentropy(),\n",
    "      metrics=metrics)\n",
    "\n",
    "    return model"
   ]
  },
  {
   "cell_type": "code",
   "execution_count": 230,
   "metadata": {},
   "outputs": [],
   "source": [
    "EPOCHS = 100\n",
    "BATCH_SIZE = 32\n",
    "\n",
    "early_stopping = tf.keras.callbacks.EarlyStopping(\n",
    "    monitor='val_auc', \n",
    "    verbose=1,\n",
    "    patience=10,\n",
    "    mode='max',\n",
    "    restore_best_weights=True)\n"
   ]
  },
  {
   "cell_type": "code",
   "execution_count": 231,
   "metadata": {},
   "outputs": [
    {
     "name": "stdout",
     "output_type": "stream",
     "text": [
      "Model: \"sequential_25\"\n",
      "_________________________________________________________________\n",
      "Layer (type)                 Output Shape              Param #   \n",
      "=================================================================\n",
      "dense_55 (Dense)             (None, 16)                160       \n",
      "_________________________________________________________________\n",
      "dropout_20 (Dropout)         (None, 16)                0         \n",
      "_________________________________________________________________\n",
      "dense_56 (Dense)             (None, 1)                 17        \n",
      "=================================================================\n",
      "Total params: 177\n",
      "Trainable params: 177\n",
      "Non-trainable params: 0\n",
      "_________________________________________________________________\n"
     ]
    }
   ],
   "source": [
    "model = make_model()\n",
    "model.summary()"
   ]
  },
  {
   "cell_type": "code",
   "execution_count": 234,
   "metadata": {},
   "outputs": [
    {
     "name": "stdout",
     "output_type": "stream",
     "text": [
      "Train on 4869 samples, validate on 541 samples\n",
      "Epoch 1/100\n",
      "4869/4869 [==============================] - 9s 2ms/sample - loss: 0.6941 - tp: 446.0000 - fp: 4338.0000 - tn: 73.0000 - fn: 12.0000 - accuracy: 0.1066 - precision: 0.0932 - recall: 0.9738 - auc: 0.6602 - val_loss: 0.6391 - val_tp: 48.0000 - val_fp: 493.0000 - val_tn: 0.0000e+00 - val_fn: 0.0000e+00 - val_accuracy: 0.0887 - val_precision: 0.0887 - val_recall: 1.0000 - val_auc: 0.8655\n",
      "Epoch 2/100\n",
      "4869/4869 [==============================] - 1s 250us/sample - loss: 0.6407 - tp: 410.0000 - fp: 3009.0000 - tn: 1402.0000 - fn: 48.0000 - accuracy: 0.3722 - precision: 0.1199 - recall: 0.8952 - auc: 0.7633 - val_loss: 0.5886 - val_tp: 47.0000 - val_fp: 149.0000 - val_tn: 344.0000 - val_fn: 1.0000 - val_accuracy: 0.7227 - val_precision: 0.2398 - val_recall: 0.9792 - val_auc: 0.8880\n",
      "Epoch 3/100\n",
      "4869/4869 [==============================] - 1s 257us/sample - loss: 0.6080 - tp: 374.0000 - fp: 1787.0000 - tn: 2624.0000 - fn: 84.0000 - accuracy: 0.6157 - precision: 0.1731 - recall: 0.8166 - auc: 0.7850 - val_loss: 0.5499 - val_tp: 46.0000 - val_fp: 114.0000 - val_tn: 379.0000 - val_fn: 2.0000 - val_accuracy: 0.7856 - val_precision: 0.2875 - val_recall: 0.9583 - val_auc: 0.8970\n",
      "Epoch 4/100\n",
      "4869/4869 [==============================] - 2s 354us/sample - loss: 0.5894 - tp: 358.0000 - fp: 1728.0000 - tn: 2683.0000 - fn: 100.0000 - accuracy: 0.6246 - precision: 0.1716 - recall: 0.7817 - auc: 0.7986 - val_loss: 0.5207 - val_tp: 45.0000 - val_fp: 112.0000 - val_tn: 381.0000 - val_fn: 3.0000 - val_accuracy: 0.7874 - val_precision: 0.2866 - val_recall: 0.9375 - val_auc: 0.9059\n",
      "Epoch 5/100\n",
      "4869/4869 [==============================] - 1s 281us/sample - loss: 0.5685 - tp: 365.0000 - fp: 1693.0000 - tn: 2718.0000 - fn: 93.0000 - accuracy: 0.6332 - precision: 0.1774 - recall: 0.7969 - auc: 0.8145 - val_loss: 0.4931 - val_tp: 43.0000 - val_fp: 94.0000 - val_tn: 399.0000 - val_fn: 5.0000 - val_accuracy: 0.8170 - val_precision: 0.3139 - val_recall: 0.8958 - val_auc: 0.9158\n",
      "Epoch 6/100\n",
      "4869/4869 [==============================] - 1s 262us/sample - loss: 0.5397 - tp: 371.0000 - fp: 1343.0000 - tn: 3068.0000 - fn: 87.0000 - accuracy: 0.7063 - precision: 0.2165 - recall: 0.8100 - auc: 0.8423 - val_loss: 0.4653 - val_tp: 43.0000 - val_fp: 85.0000 - val_tn: 408.0000 - val_fn: 5.0000 - val_accuracy: 0.8336 - val_precision: 0.3359 - val_recall: 0.8958 - val_auc: 0.9255\n",
      "Epoch 7/100\n",
      "4869/4869 [==============================] - 1s 259us/sample - loss: 0.5180 - tp: 366.0000 - fp: 961.0000 - tn: 3450.0000 - fn: 92.0000 - accuracy: 0.7837 - precision: 0.2758 - recall: 0.7991 - auc: 0.8500 - val_loss: 0.4424 - val_tp: 43.0000 - val_fp: 89.0000 - val_tn: 404.0000 - val_fn: 5.0000 - val_accuracy: 0.8262 - val_precision: 0.3258 - val_recall: 0.8958 - val_auc: 0.9288\n",
      "Epoch 8/100\n",
      "4869/4869 [==============================] - 1s 240us/sample - loss: 0.4898 - tp: 374.0000 - fp: 857.0000 - tn: 3554.0000 - fn: 84.0000 - accuracy: 0.8067 - precision: 0.3038 - recall: 0.8166 - auc: 0.8677 - val_loss: 0.4119 - val_tp: 43.0000 - val_fp: 81.0000 - val_tn: 412.0000 - val_fn: 5.0000 - val_accuracy: 0.8410 - val_precision: 0.3468 - val_recall: 0.8958 - val_auc: 0.9356\n",
      "Epoch 9/100\n",
      "4869/4869 [==============================] - 2s 310us/sample - loss: 0.4884 - tp: 344.0000 - fp: 791.0000 - tn: 3620.0000 - fn: 114.0000 - accuracy: 0.8141 - precision: 0.3031 - recall: 0.7511 - auc: 0.8576 - val_loss: 0.3955 - val_tp: 43.0000 - val_fp: 86.0000 - val_tn: 407.0000 - val_fn: 5.0000 - val_accuracy: 0.8318 - val_precision: 0.3333 - val_recall: 0.8958 - val_auc: 0.9409\n",
      "Epoch 10/100\n",
      "4869/4869 [==============================] - 1s 300us/sample - loss: 0.4707 - tp: 355.0000 - fp: 753.0000 - tn: 3658.0000 - fn: 103.0000 - accuracy: 0.8242 - precision: 0.3204 - recall: 0.7751 - auc: 0.8732 - val_loss: 0.3807 - val_tp: 43.0000 - val_fp: 90.0000 - val_tn: 403.0000 - val_fn: 5.0000 - val_accuracy: 0.8244 - val_precision: 0.3233 - val_recall: 0.8958 - val_auc: 0.9440\n",
      "Epoch 11/100\n",
      "4869/4869 [==============================] - 1s 280us/sample - loss: 0.4666 - tp: 351.0000 - fp: 804.0000 - tn: 3607.0000 - fn: 107.0000 - accuracy: 0.8129 - precision: 0.3039 - recall: 0.7664 - auc: 0.8685 - val_loss: 0.3696 - val_tp: 43.0000 - val_fp: 85.0000 - val_tn: 408.0000 - val_fn: 5.0000 - val_accuracy: 0.8336 - val_precision: 0.3359 - val_recall: 0.8958 - val_auc: 0.9481\n",
      "Epoch 12/100\n",
      "4869/4869 [==============================] - 2s 316us/sample - loss: 0.4580 - tp: 354.0000 - fp: 732.0000 - tn: 3679.0000 - fn: 104.0000 - accuracy: 0.8283 - precision: 0.3260 - recall: 0.7729 - auc: 0.8785 - val_loss: 0.3590 - val_tp: 44.0000 - val_fp: 87.0000 - val_tn: 406.0000 - val_fn: 4.0000 - val_accuracy: 0.8318 - val_precision: 0.3359 - val_recall: 0.9167 - val_auc: 0.9471\n",
      "Epoch 13/100\n",
      "4869/4869 [==============================] - 1s 303us/sample - loss: 0.4456 - tp: 353.0000 - fp: 738.0000 - tn: 3673.0000 - fn: 105.0000 - accuracy: 0.8269 - precision: 0.3236 - recall: 0.7707 - auc: 0.8857 - val_loss: 0.3512 - val_tp: 44.0000 - val_fp: 88.0000 - val_tn: 405.0000 - val_fn: 4.0000 - val_accuracy: 0.8299 - val_precision: 0.3333 - val_recall: 0.9167 - val_auc: 0.9480\n",
      "Epoch 14/100\n",
      "4869/4869 [==============================] - 1s 255us/sample - loss: 0.4329 - tp: 366.0000 - fp: 754.0000 - tn: 3657.0000 - fn: 92.0000 - accuracy: 0.8262 - precision: 0.3268 - recall: 0.7991 - auc: 0.8921 - val_loss: 0.3421 - val_tp: 44.0000 - val_fp: 81.0000 - val_tn: 412.0000 - val_fn: 4.0000 - val_accuracy: 0.8429 - val_precision: 0.3520 - val_recall: 0.9167 - val_auc: 0.9506\n",
      "Epoch 15/100\n",
      "4869/4869 [==============================] - 1s 233us/sample - loss: 0.4325 - tp: 363.0000 - fp: 687.0000 - tn: 3724.0000 - fn: 95.0000 - accuracy: 0.8394 - precision: 0.3457 - recall: 0.7926 - auc: 0.8904 - val_loss: 0.3378 - val_tp: 44.0000 - val_fp: 87.0000 - val_tn: 406.0000 - val_fn: 4.0000 - val_accuracy: 0.8318 - val_precision: 0.3359 - val_recall: 0.9167 - val_auc: 0.9509\n",
      "Epoch 16/100\n",
      "4869/4869 [==============================] - 1s 256us/sample - loss: 0.4326 - tp: 365.0000 - fp: 731.0000 - tn: 3680.0000 - fn: 93.0000 - accuracy: 0.8308 - precision: 0.3330 - recall: 0.7969 - auc: 0.8916 - val_loss: 0.3299 - val_tp: 44.0000 - val_fp: 67.0000 - val_tn: 426.0000 - val_fn: 4.0000 - val_accuracy: 0.8688 - val_precision: 0.3964 - val_recall: 0.9167 - val_auc: 0.9527\n",
      "Epoch 17/100\n",
      "4869/4869 [==============================] - 1s 231us/sample - loss: 0.4237 - tp: 361.0000 - fp: 685.0000 - tn: 3726.0000 - fn: 97.0000 - accuracy: 0.8394 - precision: 0.3451 - recall: 0.7882 - auc: 0.8961 - val_loss: 0.3247 - val_tp: 44.0000 - val_fp: 69.0000 - val_tn: 424.0000 - val_fn: 4.0000 - val_accuracy: 0.8651 - val_precision: 0.3894 - val_recall: 0.9167 - val_auc: 0.9526\n",
      "Epoch 18/100\n",
      "4869/4869 [==============================] - 1s 237us/sample - loss: 0.4181 - tp: 364.0000 - fp: 683.0000 - tn: 3728.0000 - fn: 94.0000 - accuracy: 0.8404 - precision: 0.3477 - recall: 0.7948 - auc: 0.8984 - val_loss: 0.3174 - val_tp: 44.0000 - val_fp: 66.0000 - val_tn: 427.0000 - val_fn: 4.0000 - val_accuracy: 0.8706 - val_precision: 0.4000 - val_recall: 0.9167 - val_auc: 0.9541\n",
      "Epoch 19/100\n",
      "4869/4869 [==============================] - 1s 241us/sample - loss: 0.4154 - tp: 370.0000 - fp: 675.0000 - tn: 3736.0000 - fn: 88.0000 - accuracy: 0.8433 - precision: 0.3541 - recall: 0.8079 - auc: 0.8997 - val_loss: 0.3129 - val_tp: 44.0000 - val_fp: 62.0000 - val_tn: 431.0000 - val_fn: 4.0000 - val_accuracy: 0.8780 - val_precision: 0.4151 - val_recall: 0.9167 - val_auc: 0.9550\n",
      "Epoch 20/100\n",
      "4869/4869 [==============================] - 1s 240us/sample - loss: 0.4164 - tp: 368.0000 - fp: 687.0000 - tn: 3724.0000 - fn: 90.0000 - accuracy: 0.8404 - precision: 0.3488 - recall: 0.8035 - auc: 0.8992 - val_loss: 0.3104 - val_tp: 44.0000 - val_fp: 62.0000 - val_tn: 431.0000 - val_fn: 4.0000 - val_accuracy: 0.8780 - val_precision: 0.4151 - val_recall: 0.9167 - val_auc: 0.9547\n",
      "Epoch 21/100\n",
      "4869/4869 [==============================] - 1s 280us/sample - loss: 0.4091 - tp: 368.0000 - fp: 647.0000 - tn: 3764.0000 - fn: 90.0000 - accuracy: 0.8486 - precision: 0.3626 - recall: 0.8035 - auc: 0.9038 - val_loss: 0.3070 - val_tp: 44.0000 - val_fp: 61.0000 - val_tn: 432.0000 - val_fn: 4.0000 - val_accuracy: 0.8799 - val_precision: 0.4190 - val_recall: 0.9167 - val_auc: 0.9531\n"
     ]
    },
    {
     "name": "stdout",
     "output_type": "stream",
     "text": [
      "Epoch 22/100\n",
      "4869/4869 [==============================] - 1s 246us/sample - loss: 0.4079 - tp: 370.0000 - fp: 643.0000 - tn: 3768.0000 - fn: 88.0000 - accuracy: 0.8499 - precision: 0.3653 - recall: 0.8079 - auc: 0.9041 - val_loss: 0.3054 - val_tp: 44.0000 - val_fp: 62.0000 - val_tn: 431.0000 - val_fn: 4.0000 - val_accuracy: 0.8780 - val_precision: 0.4151 - val_recall: 0.9167 - val_auc: 0.9546\n",
      "Epoch 23/100\n",
      "4869/4869 [==============================] - 1s 239us/sample - loss: 0.3949 - tp: 372.0000 - fp: 634.0000 - tn: 3777.0000 - fn: 86.0000 - accuracy: 0.8521 - precision: 0.3698 - recall: 0.8122 - auc: 0.9107 - val_loss: 0.3019 - val_tp: 44.0000 - val_fp: 67.0000 - val_tn: 426.0000 - val_fn: 4.0000 - val_accuracy: 0.8688 - val_precision: 0.3964 - val_recall: 0.9167 - val_auc: 0.9538\n",
      "Epoch 24/100\n",
      "4869/4869 [==============================] - 1s 297us/sample - loss: 0.4106 - tp: 367.0000 - fp: 632.0000 - tn: 3779.0000 - fn: 91.0000 - accuracy: 0.8515 - precision: 0.3674 - recall: 0.8013 - auc: 0.9025 - val_loss: 0.2998 - val_tp: 43.0000 - val_fp: 59.0000 - val_tn: 434.0000 - val_fn: 5.0000 - val_accuracy: 0.8817 - val_precision: 0.4216 - val_recall: 0.8958 - val_auc: 0.9544\n",
      "Epoch 25/100\n",
      "4869/4869 [==============================] - 2s 339us/sample - loss: 0.4110 - tp: 353.0000 - fp: 609.0000 - tn: 3802.0000 - fn: 105.0000 - accuracy: 0.8534 - precision: 0.3669 - recall: 0.7707 - auc: 0.9027 - val_loss: 0.2987 - val_tp: 44.0000 - val_fp: 63.0000 - val_tn: 430.0000 - val_fn: 4.0000 - val_accuracy: 0.8762 - val_precision: 0.4112 - val_recall: 0.9167 - val_auc: 0.9558\n",
      "Epoch 26/100\n",
      "4869/4869 [==============================] - 1s 287us/sample - loss: 0.4110 - tp: 374.0000 - fp: 632.0000 - tn: 3779.0000 - fn: 84.0000 - accuracy: 0.8529 - precision: 0.3718 - recall: 0.8166 - auc: 0.9042 - val_loss: 0.3006 - val_tp: 43.0000 - val_fp: 61.0000 - val_tn: 432.0000 - val_fn: 5.0000 - val_accuracy: 0.8780 - val_precision: 0.4135 - val_recall: 0.8958 - val_auc: 0.9541\n",
      "Epoch 27/100\n",
      "4869/4869 [==============================] - 1s 297us/sample - loss: 0.4001 - tp: 373.0000 - fp: 582.0000 - tn: 3829.0000 - fn: 85.0000 - accuracy: 0.8630 - precision: 0.3906 - recall: 0.8144 - auc: 0.9096 - val_loss: 0.2965 - val_tp: 44.0000 - val_fp: 65.0000 - val_tn: 428.0000 - val_fn: 4.0000 - val_accuracy: 0.8725 - val_precision: 0.4037 - val_recall: 0.9167 - val_auc: 0.9557\n",
      "Epoch 28/100\n",
      "4869/4869 [==============================] - 1s 294us/sample - loss: 0.3994 - tp: 365.0000 - fp: 595.0000 - tn: 3816.0000 - fn: 93.0000 - accuracy: 0.8587 - precision: 0.3802 - recall: 0.7969 - auc: 0.9086 - val_loss: 0.2996 - val_tp: 45.0000 - val_fp: 70.0000 - val_tn: 423.0000 - val_fn: 3.0000 - val_accuracy: 0.8651 - val_precision: 0.3913 - val_recall: 0.9375 - val_auc: 0.9545\n",
      "Epoch 29/100\n",
      "4869/4869 [==============================] - 1s 279us/sample - loss: 0.4080 - tp: 363.0000 - fp: 634.0000 - tn: 3777.0000 - fn: 95.0000 - accuracy: 0.8503 - precision: 0.3641 - recall: 0.7926 - auc: 0.9039 - val_loss: 0.2930 - val_tp: 43.0000 - val_fp: 59.0000 - val_tn: 434.0000 - val_fn: 5.0000 - val_accuracy: 0.8817 - val_precision: 0.4216 - val_recall: 0.8958 - val_auc: 0.9569\n",
      "Epoch 30/100\n",
      "4869/4869 [==============================] - 1s 251us/sample - loss: 0.3984 - tp: 370.0000 - fp: 609.0000 - tn: 3802.0000 - fn: 88.0000 - accuracy: 0.8568 - precision: 0.3779 - recall: 0.8079 - auc: 0.9089 - val_loss: 0.2906 - val_tp: 43.0000 - val_fp: 54.0000 - val_tn: 439.0000 - val_fn: 5.0000 - val_accuracy: 0.8909 - val_precision: 0.4433 - val_recall: 0.8958 - val_auc: 0.9571\n",
      "Epoch 31/100\n",
      "4869/4869 [==============================] - 1s 279us/sample - loss: 0.4009 - tp: 373.0000 - fp: 589.0000 - tn: 3822.0000 - fn: 85.0000 - accuracy: 0.8616 - precision: 0.3877 - recall: 0.8144 - auc: 0.9091 - val_loss: 0.2953 - val_tp: 45.0000 - val_fp: 67.0000 - val_tn: 426.0000 - val_fn: 3.0000 - val_accuracy: 0.8706 - val_precision: 0.4018 - val_recall: 0.9375 - val_auc: 0.9565\n",
      "Epoch 32/100\n",
      "4869/4869 [==============================] - 1s 306us/sample - loss: 0.3958 - tp: 370.0000 - fp: 584.0000 - tn: 3827.0000 - fn: 88.0000 - accuracy: 0.8620 - precision: 0.3878 - recall: 0.8079 - auc: 0.9108 - val_loss: 0.2930 - val_tp: 44.0000 - val_fp: 66.0000 - val_tn: 427.0000 - val_fn: 4.0000 - val_accuracy: 0.8706 - val_precision: 0.4000 - val_recall: 0.9167 - val_auc: 0.9559\n",
      "Epoch 33/100\n",
      "4869/4869 [==============================] - 1s 280us/sample - loss: 0.3885 - tp: 372.0000 - fp: 593.0000 - tn: 3818.0000 - fn: 86.0000 - accuracy: 0.8605 - precision: 0.3855 - recall: 0.8122 - auc: 0.9153 - val_loss: 0.2910 - val_tp: 43.0000 - val_fp: 59.0000 - val_tn: 434.0000 - val_fn: 5.0000 - val_accuracy: 0.8817 - val_precision: 0.4216 - val_recall: 0.8958 - val_auc: 0.9569\n",
      "Epoch 34/100\n",
      "4869/4869 [==============================] - 1s 257us/sample - loss: 0.3983 - tp: 374.0000 - fp: 615.0000 - tn: 3796.0000 - fn: 84.0000 - accuracy: 0.8564 - precision: 0.3782 - recall: 0.8166 - auc: 0.9102 - val_loss: 0.2885 - val_tp: 43.0000 - val_fp: 60.0000 - val_tn: 433.0000 - val_fn: 5.0000 - val_accuracy: 0.8799 - val_precision: 0.4175 - val_recall: 0.8958 - val_auc: 0.9560\n",
      "Epoch 35/100\n",
      "4869/4869 [==============================] - 1s 240us/sample - loss: 0.3964 - tp: 365.0000 - fp: 546.0000 - tn: 3865.0000 - fn: 93.0000 - accuracy: 0.8688 - precision: 0.4007 - recall: 0.7969 - auc: 0.9111 - val_loss: 0.2896 - val_tp: 43.0000 - val_fp: 62.0000 - val_tn: 431.0000 - val_fn: 5.0000 - val_accuracy: 0.8762 - val_precision: 0.4095 - val_recall: 0.8958 - val_auc: 0.9561\n",
      "Epoch 36/100\n",
      "4869/4869 [==============================] - 1s 255us/sample - loss: 0.3921 - tp: 366.0000 - fp: 577.0000 - tn: 3834.0000 - fn: 92.0000 - accuracy: 0.8626 - precision: 0.3881 - recall: 0.7991 - auc: 0.9115 - val_loss: 0.2887 - val_tp: 43.0000 - val_fp: 64.0000 - val_tn: 429.0000 - val_fn: 5.0000 - val_accuracy: 0.8725 - val_precision: 0.4019 - val_recall: 0.8958 - val_auc: 0.9568\n",
      "Epoch 37/100\n",
      "4869/4869 [==============================] - 1s 238us/sample - loss: 0.3979 - tp: 369.0000 - fp: 575.0000 - tn: 3836.0000 - fn: 89.0000 - accuracy: 0.8636 - precision: 0.3909 - recall: 0.8057 - auc: 0.9103 - val_loss: 0.2870 - val_tp: 43.0000 - val_fp: 62.0000 - val_tn: 431.0000 - val_fn: 5.0000 - val_accuracy: 0.8762 - val_precision: 0.4095 - val_recall: 0.8958 - val_auc: 0.9558\n",
      "Epoch 38/100\n",
      "4869/4869 [==============================] - 1s 237us/sample - loss: 0.3955 - tp: 365.0000 - fp: 541.0000 - tn: 3870.0000 - fn: 93.0000 - accuracy: 0.8698 - precision: 0.4029 - recall: 0.7969 - auc: 0.9102 - val_loss: 0.2909 - val_tp: 45.0000 - val_fp: 73.0000 - val_tn: 420.0000 - val_fn: 3.0000 - val_accuracy: 0.8595 - val_precision: 0.3814 - val_recall: 0.9375 - val_auc: 0.9563\n",
      "Epoch 39/100\n",
      "4869/4869 [==============================] - 1s 244us/sample - loss: 0.3890 - tp: 371.0000 - fp: 593.0000 - tn: 3818.0000 - fn: 87.0000 - accuracy: 0.8603 - precision: 0.3849 - recall: 0.8100 - auc: 0.9127 - val_loss: 0.2886 - val_tp: 43.0000 - val_fp: 63.0000 - val_tn: 430.0000 - val_fn: 5.0000 - val_accuracy: 0.8743 - val_precision: 0.4057 - val_recall: 0.8958 - val_auc: 0.9554\n",
      "Epoch 40/100\n",
      "4768/4869 [============================>.] - ETA: 0s - loss: 0.3913 - tp: 357.0000 - fp: 549.0000 - tn: 3775.0000 - fn: 87.0000 - accuracy: 0.8666 - precision: 0.3940 - recall: 0.8041 - auc: 0.9144Restoring model weights from the end of the best epoch.\n",
      "4869/4869 [==============================] - 1s 261us/sample - loss: 0.3923 - tp: 369.0000 - fp: 563.0000 - tn: 3848.0000 - fn: 89.0000 - accuracy: 0.8661 - precision: 0.3959 - recall: 0.8057 - auc: 0.9146 - val_loss: 0.2846 - val_tp: 43.0000 - val_fp: 60.0000 - val_tn: 433.0000 - val_fn: 5.0000 - val_accuracy: 0.8799 - val_precision: 0.4175 - val_recall: 0.8958 - val_auc: 0.9561\n",
      "Epoch 00040: early stopping\n"
     ]
    }
   ],
   "source": [
    "weighted_model = make_model()\n",
    "#weighted_model.load_weights(initial_weights)\n",
    "\n",
    "weighted_history = weighted_model.fit(\n",
    "    x_train,\n",
    "    y_train,\n",
    "    batch_size=BATCH_SIZE,\n",
    "    epochs=EPOCHS,\n",
    "    callbacks = [early_stopping],\n",
    "    validation_data=(x_test, y_test),\n",
    "    # The class weights go here\n",
    "    class_weight=class_weight) \n"
   ]
  },
  {
   "cell_type": "code",
   "execution_count": 239,
   "metadata": {},
   "outputs": [
    {
     "data": {
      "image/png": "[encoded data removed]",
      "text/plain": [
       "<Figure size 864x720 with 4 Axes>"
      ]
     },
     "metadata": {
      "needs_background": "light"
     },
     "output_type": "display_data"
    }
   ],
   "source": [
    "plot_metrics(weighted_history)"
   ]
  },
  {
   "cell_type": "code",
   "execution_count": 240,
   "metadata": {},
   "outputs": [],
   "source": [
    "train_predictions_weighted = weighted_model.predict(x_train, batch_size=BATCH_SIZE)\n",
    "test_predictions_weighted = weighted_model.predict(x_test, batch_size=BATCH_SIZE)\n"
   ]
  },
  {
   "cell_type": "code",
   "execution_count": 242,
   "metadata": {
    "scrolled": true
   },
   "outputs": [
    {
     "name": "stdout",
     "output_type": "stream",
     "text": [
      "loss :  0.33245697650583306\n",
      "tp :  43.0\n",
      "fp :  54.0\n",
      "tn :  439.0\n",
      "fn :  5.0\n",
      "accuracy :  0.8909427\n",
      "precision :  0.44329897\n",
      "recall :  0.8958333\n",
      "auc :  0.95708656\n",
      "\n",
      "Legitimate Transactions Detected (True Negatives):  439\n",
      "Legitimate Transactions Incorrectly Detected (False Positives):  54\n",
      "Fraudulent Transactions Missed (False Negatives):  5\n",
      "Fraudulent Transactions Detected (True Positives):  43\n",
      "Total Fraudulent Transactions:  48\n"
     ]
    },
    {
     "data": {
      "image/png": "[encoded data removed]",
      "text/plain": [
       "<Figure size 360x360 with 2 Axes>"
      ]
     },
     "metadata": {
      "needs_background": "light"
     },
     "output_type": "display_data"
    }
   ],
   "source": [
    "weighted_results = weighted_model.evaluate(x_test, y_test,\n",
    "                                           batch_size=BATCH_SIZE, verbose=0)\n",
    "for name, value in zip(weighted_model.metrics_names, weighted_results):\n",
    "      print(name, ': ', value)\n",
    "print()\n",
    "\n",
    "plot_cm(y_test, test_predictions_weighted)\n"
   ]
  },
  {
   "cell_type": "code",
   "execution_count": 243,
   "metadata": {},
   "outputs": [],
   "source": [
    "def plot_loss(history, label, n):\n",
    "    \n",
    "    # Use a log scale to show the wide range of values.\n",
    "    plt.semilogy(history.epoch,  history.history['loss'],\n",
    "               color=colors[n], label='Train '+label)\n",
    "    plt.semilogy(history.epoch,  history.history['val_loss'],\n",
    "          color=colors[n], label='Val '+label,\n",
    "          linestyle=\"--\")\n",
    "    plt.xlabel('Epoch')\n",
    "    plt.ylabel('Loss')\n",
    "\n",
    "    plt.legend()\n"
   ]
  },
  {
   "cell_type": "code",
   "execution_count": 105,
   "metadata": {},
   "outputs": [
    {
     "data": {
      "image/png": "[encoded data removed]",
      "text/plain": [
       "<Figure size 864x720 with 1 Axes>"
      ]
     },
     "metadata": {
      "needs_background": "light"
     },
     "output_type": "display_data"
    }
   ],
   "source": [
    "plot_loss(weighted_history, \"weighted_model\", 0)"
   ]
  },
  {
   "cell_type": "code",
   "execution_count": 244,
   "metadata": {},
   "outputs": [],
   "source": [
    "def plot_roc(name, labels, predictions, **kwargs):\n",
    "    \n",
    "    fp, tp, _ = sklearn.metrics.roc_curve(labels, predictions)\n",
    "\n",
    "    plt.plot(100*fp, 100*tp, label=name, linewidth=2, **kwargs)\n",
    "    plt.xlabel('False positives [%]')\n",
    "    plt.ylabel('True positives [%]')\n",
    "    plt.xlim([-0.5,20])\n",
    "    plt.ylim([80,100.5])\n",
    "    plt.grid(True)\n",
    "    ax = plt.gca()\n",
    "    ax.set_aspect('equal')\n"
   ]
  },
  {
   "cell_type": "code",
   "execution_count": 245,
   "metadata": {
    "scrolled": true
   },
   "outputs": [
    {
     "data": {
      "text/plain": [
       "<matplotlib.legend.Legend at 0x18d669f6390>"
      ]
     },
     "execution_count": 245,
     "metadata": {},
     "output_type": "execute_result"
    },
    {
     "data": {
      "image/png": "[encoded data removed]",
      "text/plain": [
       "<Figure size 864x720 with 1 Axes>"
      ]
     },
     "metadata": {
      "needs_background": "light"
     },
     "output_type": "display_data"
    }
   ],
   "source": [
    "plot_roc(\"Train Weighted\", y_train, train_predictions_weighted, color=colors[1])\n",
    "plot_roc(\"Test Weighted\", y_test, test_predictions_weighted, color=colors[1], linestyle='--')\n",
    "\n",
    "\n",
    "plt.legend(loc='lower right')\n"
   ]
  },
  {
   "cell_type": "code",
   "execution_count": null,
   "metadata": {},
   "outputs": [],
   "source": []
  }
 ],
 "metadata": {
  "colab": {
   "collapsed_sections": [],
   "name": "linear.ipynb",
   "private_outputs": true,
   "provenance": [],
   "toc_visible": true,
   "version": "0.3.2"
  },
  "kernelspec": {
   "display_name": "Python 3",
   "language": "python",
   "name": "python3"
  },
  "language_info": {
   "codemirror_mode": {
    "name": "ipython",
    "version": 3
   },
   "file_extension": ".py",
   "mimetype": "text/x-python",
   "name": "python",
   "nbconvert_exporter": "python",
   "pygments_lexer": "ipython3",
   "version": "3.8.3"
  }
 },
 "nbformat": 4,
 "nbformat_minor": 1
}
